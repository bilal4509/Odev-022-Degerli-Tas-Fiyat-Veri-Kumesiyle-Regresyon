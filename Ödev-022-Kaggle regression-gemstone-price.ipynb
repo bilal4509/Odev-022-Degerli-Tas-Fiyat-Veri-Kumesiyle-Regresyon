{
 "cells": [
  {
   "cell_type": "markdown",
   "metadata": {},
   "source": [
    "<img src='111.jpg'>"
   ]
  },
  {
   "cell_type": "code",
   "execution_count": 1,
   "metadata": {
    "_cell_guid": "b1076dfc-b9ad-4769-8c92-a6c4dae69d19",
    "_uuid": "8f2839f25d086af736a60e9eeb907d3b93b6e0e5",
    "execution": {
     "iopub.execute_input": "2023-12-15T04:59:58.613649Z",
     "iopub.status.busy": "2023-12-15T04:59:58.613083Z",
     "iopub.status.idle": "2023-12-15T04:59:58.940055Z",
     "shell.execute_reply": "2023-12-15T04:59:58.938672Z",
     "shell.execute_reply.started": "2023-12-15T04:59:58.613603Z"
    }
   },
   "outputs": [
    {
     "name": "stdout",
     "output_type": "stream",
     "text": [
      "/kaggle/input/playground-series-s3e8/sample_submission.csv\n",
      "/kaggle/input/playground-series-s3e8/train.csv\n",
      "/kaggle/input/playground-series-s3e8/test.csv\n"
     ]
    }
   ],
   "source": [
    "# This Python 3 environment comes with many helpful analytics libraries installed\n",
    "# It is defined by the kaggle/python Docker image: https://github.com/kaggle/docker-python\n",
    "# For example, here's several helpful packages to load\n",
    "\n",
    "import numpy as np # linear algebra\n",
    "import pandas as pd # data processing, CSV file I/O (e.g. pd.read_csv)\n",
    "\n",
    "# Input data files are available in the read-only \"../input/\" directory\n",
    "# For example, running this (by clicking run or pressing Shift+Enter) will list all files under the input directory\n",
    "\n",
    "import os\n",
    "for dirname, _, filenames in os.walk('/kaggle/input'):\n",
    "    for filename in filenames:\n",
    "        print(os.path.join(dirname, filename))\n",
    "\n",
    "# You can write up to 20GB to the current directory (/kaggle/working/) that gets preserved as output when you create a version using \"Save & Run All\" \n",
    "# You can also write temporary files to /kaggle/temp/, but they won't be saved outside of the current session"
   ]
  },
  {
   "cell_type": "code",
   "execution_count": 2,
   "metadata": {
    "execution": {
     "iopub.execute_input": "2023-12-15T05:00:03.612837Z",
     "iopub.status.busy": "2023-12-15T05:00:03.612188Z",
     "iopub.status.idle": "2023-12-15T05:00:03.620603Z",
     "shell.execute_reply": "2023-12-15T05:00:03.617967Z",
     "shell.execute_reply.started": "2023-12-15T05:00:03.612799Z"
    }
   },
   "outputs": [],
   "source": [
    "#Tablosal Değerli Taş Fiyat Veri Kümesiyle Regresyon\n"
   ]
  },
  {
   "cell_type": "code",
   "execution_count": 3,
   "metadata": {
    "execution": {
     "iopub.execute_input": "2023-12-15T05:00:05.387721Z",
     "iopub.status.busy": "2023-12-15T05:00:05.387394Z",
     "iopub.status.idle": "2023-12-15T05:00:05.682769Z",
     "shell.execute_reply": "2023-12-15T05:00:05.681434Z",
     "shell.execute_reply.started": "2023-12-15T05:00:05.387694Z"
    }
   },
   "outputs": [
    {
     "data": {
      "text/html": [
       "<div>\n",
       "<style scoped>\n",
       "    .dataframe tbody tr th:only-of-type {\n",
       "        vertical-align: middle;\n",
       "    }\n",
       "\n",
       "    .dataframe tbody tr th {\n",
       "        vertical-align: top;\n",
       "    }\n",
       "\n",
       "    .dataframe thead th {\n",
       "        text-align: right;\n",
       "    }\n",
       "</style>\n",
       "<table border=\"1\" class=\"dataframe\">\n",
       "  <thead>\n",
       "    <tr style=\"text-align: right;\">\n",
       "      <th></th>\n",
       "      <th>id</th>\n",
       "      <th>carat</th>\n",
       "      <th>cut</th>\n",
       "      <th>color</th>\n",
       "      <th>clarity</th>\n",
       "      <th>depth</th>\n",
       "      <th>table</th>\n",
       "      <th>x</th>\n",
       "      <th>y</th>\n",
       "      <th>z</th>\n",
       "      <th>price</th>\n",
       "    </tr>\n",
       "  </thead>\n",
       "  <tbody>\n",
       "    <tr>\n",
       "      <th>0</th>\n",
       "      <td>0</td>\n",
       "      <td>1.52</td>\n",
       "      <td>Premium</td>\n",
       "      <td>F</td>\n",
       "      <td>VS2</td>\n",
       "      <td>62.2</td>\n",
       "      <td>58.0</td>\n",
       "      <td>7.27</td>\n",
       "      <td>7.33</td>\n",
       "      <td>4.55</td>\n",
       "      <td>13619</td>\n",
       "    </tr>\n",
       "    <tr>\n",
       "      <th>1</th>\n",
       "      <td>1</td>\n",
       "      <td>2.03</td>\n",
       "      <td>Very Good</td>\n",
       "      <td>J</td>\n",
       "      <td>SI2</td>\n",
       "      <td>62.0</td>\n",
       "      <td>58.0</td>\n",
       "      <td>8.06</td>\n",
       "      <td>8.12</td>\n",
       "      <td>5.05</td>\n",
       "      <td>13387</td>\n",
       "    </tr>\n",
       "    <tr>\n",
       "      <th>2</th>\n",
       "      <td>2</td>\n",
       "      <td>0.70</td>\n",
       "      <td>Ideal</td>\n",
       "      <td>G</td>\n",
       "      <td>VS1</td>\n",
       "      <td>61.2</td>\n",
       "      <td>57.0</td>\n",
       "      <td>5.69</td>\n",
       "      <td>5.73</td>\n",
       "      <td>3.50</td>\n",
       "      <td>2772</td>\n",
       "    </tr>\n",
       "    <tr>\n",
       "      <th>3</th>\n",
       "      <td>3</td>\n",
       "      <td>0.32</td>\n",
       "      <td>Ideal</td>\n",
       "      <td>G</td>\n",
       "      <td>VS1</td>\n",
       "      <td>61.6</td>\n",
       "      <td>56.0</td>\n",
       "      <td>4.38</td>\n",
       "      <td>4.41</td>\n",
       "      <td>2.71</td>\n",
       "      <td>666</td>\n",
       "    </tr>\n",
       "    <tr>\n",
       "      <th>4</th>\n",
       "      <td>4</td>\n",
       "      <td>1.70</td>\n",
       "      <td>Premium</td>\n",
       "      <td>G</td>\n",
       "      <td>VS2</td>\n",
       "      <td>62.6</td>\n",
       "      <td>59.0</td>\n",
       "      <td>7.65</td>\n",
       "      <td>7.61</td>\n",
       "      <td>4.77</td>\n",
       "      <td>14453</td>\n",
       "    </tr>\n",
       "    <tr>\n",
       "      <th>...</th>\n",
       "      <td>...</td>\n",
       "      <td>...</td>\n",
       "      <td>...</td>\n",
       "      <td>...</td>\n",
       "      <td>...</td>\n",
       "      <td>...</td>\n",
       "      <td>...</td>\n",
       "      <td>...</td>\n",
       "      <td>...</td>\n",
       "      <td>...</td>\n",
       "      <td>...</td>\n",
       "    </tr>\n",
       "    <tr>\n",
       "      <th>193568</th>\n",
       "      <td>193568</td>\n",
       "      <td>0.31</td>\n",
       "      <td>Ideal</td>\n",
       "      <td>D</td>\n",
       "      <td>VVS2</td>\n",
       "      <td>61.1</td>\n",
       "      <td>56.0</td>\n",
       "      <td>4.35</td>\n",
       "      <td>4.39</td>\n",
       "      <td>2.67</td>\n",
       "      <td>1130</td>\n",
       "    </tr>\n",
       "    <tr>\n",
       "      <th>193569</th>\n",
       "      <td>193569</td>\n",
       "      <td>0.70</td>\n",
       "      <td>Premium</td>\n",
       "      <td>G</td>\n",
       "      <td>VVS2</td>\n",
       "      <td>60.3</td>\n",
       "      <td>58.0</td>\n",
       "      <td>5.75</td>\n",
       "      <td>5.77</td>\n",
       "      <td>3.47</td>\n",
       "      <td>2874</td>\n",
       "    </tr>\n",
       "    <tr>\n",
       "      <th>193570</th>\n",
       "      <td>193570</td>\n",
       "      <td>0.73</td>\n",
       "      <td>Very Good</td>\n",
       "      <td>F</td>\n",
       "      <td>SI1</td>\n",
       "      <td>63.1</td>\n",
       "      <td>57.0</td>\n",
       "      <td>5.72</td>\n",
       "      <td>5.75</td>\n",
       "      <td>3.62</td>\n",
       "      <td>3036</td>\n",
       "    </tr>\n",
       "    <tr>\n",
       "      <th>193571</th>\n",
       "      <td>193571</td>\n",
       "      <td>0.34</td>\n",
       "      <td>Very Good</td>\n",
       "      <td>D</td>\n",
       "      <td>SI1</td>\n",
       "      <td>62.9</td>\n",
       "      <td>55.0</td>\n",
       "      <td>4.45</td>\n",
       "      <td>4.49</td>\n",
       "      <td>2.81</td>\n",
       "      <td>681</td>\n",
       "    </tr>\n",
       "    <tr>\n",
       "      <th>193572</th>\n",
       "      <td>193572</td>\n",
       "      <td>0.71</td>\n",
       "      <td>Good</td>\n",
       "      <td>E</td>\n",
       "      <td>SI2</td>\n",
       "      <td>60.8</td>\n",
       "      <td>64.0</td>\n",
       "      <td>5.73</td>\n",
       "      <td>5.71</td>\n",
       "      <td>3.48</td>\n",
       "      <td>2258</td>\n",
       "    </tr>\n",
       "  </tbody>\n",
       "</table>\n",
       "<p>193573 rows × 11 columns</p>\n",
       "</div>"
      ],
      "text/plain": [
       "            id  carat        cut color clarity  depth  table     x     y  \\\n",
       "0            0   1.52    Premium     F     VS2   62.2   58.0  7.27  7.33   \n",
       "1            1   2.03  Very Good     J     SI2   62.0   58.0  8.06  8.12   \n",
       "2            2   0.70      Ideal     G     VS1   61.2   57.0  5.69  5.73   \n",
       "3            3   0.32      Ideal     G     VS1   61.6   56.0  4.38  4.41   \n",
       "4            4   1.70    Premium     G     VS2   62.6   59.0  7.65  7.61   \n",
       "...        ...    ...        ...   ...     ...    ...    ...   ...   ...   \n",
       "193568  193568   0.31      Ideal     D    VVS2   61.1   56.0  4.35  4.39   \n",
       "193569  193569   0.70    Premium     G    VVS2   60.3   58.0  5.75  5.77   \n",
       "193570  193570   0.73  Very Good     F     SI1   63.1   57.0  5.72  5.75   \n",
       "193571  193571   0.34  Very Good     D     SI1   62.9   55.0  4.45  4.49   \n",
       "193572  193572   0.71       Good     E     SI2   60.8   64.0  5.73  5.71   \n",
       "\n",
       "           z  price  \n",
       "0       4.55  13619  \n",
       "1       5.05  13387  \n",
       "2       3.50   2772  \n",
       "3       2.71    666  \n",
       "4       4.77  14453  \n",
       "...      ...    ...  \n",
       "193568  2.67   1130  \n",
       "193569  3.47   2874  \n",
       "193570  3.62   3036  \n",
       "193571  2.81    681  \n",
       "193572  3.48   2258  \n",
       "\n",
       "[193573 rows x 11 columns]"
      ]
     },
     "execution_count": 3,
     "metadata": {},
     "output_type": "execute_result"
    }
   ],
   "source": [
    "df1= pd.read_csv('/kaggle/input/playground-series-s3e8/train.csv')\n",
    "df1"
   ]
  },
  {
   "cell_type": "code",
   "execution_count": 4,
   "metadata": {
    "execution": {
     "iopub.execute_input": "2023-12-15T05:00:09.804521Z",
     "iopub.status.busy": "2023-12-15T05:00:09.804178Z",
     "iopub.status.idle": "2023-12-15T05:00:09.983419Z",
     "shell.execute_reply": "2023-12-15T05:00:09.982079Z",
     "shell.execute_reply.started": "2023-12-15T05:00:09.804493Z"
    }
   },
   "outputs": [
    {
     "data": {
      "text/html": [
       "<div>\n",
       "<style scoped>\n",
       "    .dataframe tbody tr th:only-of-type {\n",
       "        vertical-align: middle;\n",
       "    }\n",
       "\n",
       "    .dataframe tbody tr th {\n",
       "        vertical-align: top;\n",
       "    }\n",
       "\n",
       "    .dataframe thead th {\n",
       "        text-align: right;\n",
       "    }\n",
       "</style>\n",
       "<table border=\"1\" class=\"dataframe\">\n",
       "  <thead>\n",
       "    <tr style=\"text-align: right;\">\n",
       "      <th></th>\n",
       "      <th>id</th>\n",
       "      <th>carat</th>\n",
       "      <th>cut</th>\n",
       "      <th>color</th>\n",
       "      <th>clarity</th>\n",
       "      <th>depth</th>\n",
       "      <th>table</th>\n",
       "      <th>x</th>\n",
       "      <th>y</th>\n",
       "      <th>z</th>\n",
       "    </tr>\n",
       "  </thead>\n",
       "  <tbody>\n",
       "    <tr>\n",
       "      <th>0</th>\n",
       "      <td>193573</td>\n",
       "      <td>0.35</td>\n",
       "      <td>Ideal</td>\n",
       "      <td>D</td>\n",
       "      <td>VS2</td>\n",
       "      <td>62.3</td>\n",
       "      <td>56.0</td>\n",
       "      <td>4.51</td>\n",
       "      <td>4.54</td>\n",
       "      <td>2.82</td>\n",
       "    </tr>\n",
       "    <tr>\n",
       "      <th>1</th>\n",
       "      <td>193574</td>\n",
       "      <td>0.77</td>\n",
       "      <td>Very Good</td>\n",
       "      <td>F</td>\n",
       "      <td>SI2</td>\n",
       "      <td>62.8</td>\n",
       "      <td>56.0</td>\n",
       "      <td>5.83</td>\n",
       "      <td>5.87</td>\n",
       "      <td>3.68</td>\n",
       "    </tr>\n",
       "    <tr>\n",
       "      <th>2</th>\n",
       "      <td>193575</td>\n",
       "      <td>0.71</td>\n",
       "      <td>Ideal</td>\n",
       "      <td>I</td>\n",
       "      <td>VS2</td>\n",
       "      <td>61.9</td>\n",
       "      <td>53.0</td>\n",
       "      <td>5.77</td>\n",
       "      <td>5.74</td>\n",
       "      <td>3.55</td>\n",
       "    </tr>\n",
       "    <tr>\n",
       "      <th>3</th>\n",
       "      <td>193576</td>\n",
       "      <td>0.33</td>\n",
       "      <td>Ideal</td>\n",
       "      <td>G</td>\n",
       "      <td>VVS2</td>\n",
       "      <td>61.6</td>\n",
       "      <td>55.0</td>\n",
       "      <td>4.44</td>\n",
       "      <td>4.42</td>\n",
       "      <td>2.73</td>\n",
       "    </tr>\n",
       "    <tr>\n",
       "      <th>4</th>\n",
       "      <td>193577</td>\n",
       "      <td>1.20</td>\n",
       "      <td>Very Good</td>\n",
       "      <td>I</td>\n",
       "      <td>VS2</td>\n",
       "      <td>62.7</td>\n",
       "      <td>56.0</td>\n",
       "      <td>6.75</td>\n",
       "      <td>6.79</td>\n",
       "      <td>4.24</td>\n",
       "    </tr>\n",
       "    <tr>\n",
       "      <th>...</th>\n",
       "      <td>...</td>\n",
       "      <td>...</td>\n",
       "      <td>...</td>\n",
       "      <td>...</td>\n",
       "      <td>...</td>\n",
       "      <td>...</td>\n",
       "      <td>...</td>\n",
       "      <td>...</td>\n",
       "      <td>...</td>\n",
       "      <td>...</td>\n",
       "    </tr>\n",
       "    <tr>\n",
       "      <th>129045</th>\n",
       "      <td>322618</td>\n",
       "      <td>0.72</td>\n",
       "      <td>Ideal</td>\n",
       "      <td>D</td>\n",
       "      <td>VVS2</td>\n",
       "      <td>62.0</td>\n",
       "      <td>56.0</td>\n",
       "      <td>5.75</td>\n",
       "      <td>5.78</td>\n",
       "      <td>3.57</td>\n",
       "    </tr>\n",
       "    <tr>\n",
       "      <th>129046</th>\n",
       "      <td>322619</td>\n",
       "      <td>0.70</td>\n",
       "      <td>Premium</td>\n",
       "      <td>D</td>\n",
       "      <td>SI1</td>\n",
       "      <td>59.6</td>\n",
       "      <td>62.0</td>\n",
       "      <td>5.77</td>\n",
       "      <td>5.74</td>\n",
       "      <td>3.43</td>\n",
       "    </tr>\n",
       "    <tr>\n",
       "      <th>129047</th>\n",
       "      <td>322620</td>\n",
       "      <td>1.01</td>\n",
       "      <td>Premium</td>\n",
       "      <td>G</td>\n",
       "      <td>VVS2</td>\n",
       "      <td>62.3</td>\n",
       "      <td>58.0</td>\n",
       "      <td>6.44</td>\n",
       "      <td>6.41</td>\n",
       "      <td>4.01</td>\n",
       "    </tr>\n",
       "    <tr>\n",
       "      <th>129048</th>\n",
       "      <td>322621</td>\n",
       "      <td>1.35</td>\n",
       "      <td>Ideal</td>\n",
       "      <td>D</td>\n",
       "      <td>I1</td>\n",
       "      <td>62.0</td>\n",
       "      <td>56.0</td>\n",
       "      <td>7.05</td>\n",
       "      <td>7.08</td>\n",
       "      <td>4.38</td>\n",
       "    </tr>\n",
       "    <tr>\n",
       "      <th>129049</th>\n",
       "      <td>322622</td>\n",
       "      <td>1.07</td>\n",
       "      <td>Premium</td>\n",
       "      <td>H</td>\n",
       "      <td>SI2</td>\n",
       "      <td>62.6</td>\n",
       "      <td>60.0</td>\n",
       "      <td>6.49</td>\n",
       "      <td>6.45</td>\n",
       "      <td>4.06</td>\n",
       "    </tr>\n",
       "  </tbody>\n",
       "</table>\n",
       "<p>129050 rows × 10 columns</p>\n",
       "</div>"
      ],
      "text/plain": [
       "            id  carat        cut color clarity  depth  table     x     y     z\n",
       "0       193573   0.35      Ideal     D     VS2   62.3   56.0  4.51  4.54  2.82\n",
       "1       193574   0.77  Very Good     F     SI2   62.8   56.0  5.83  5.87  3.68\n",
       "2       193575   0.71      Ideal     I     VS2   61.9   53.0  5.77  5.74  3.55\n",
       "3       193576   0.33      Ideal     G    VVS2   61.6   55.0  4.44  4.42  2.73\n",
       "4       193577   1.20  Very Good     I     VS2   62.7   56.0  6.75  6.79  4.24\n",
       "...        ...    ...        ...   ...     ...    ...    ...   ...   ...   ...\n",
       "129045  322618   0.72      Ideal     D    VVS2   62.0   56.0  5.75  5.78  3.57\n",
       "129046  322619   0.70    Premium     D     SI1   59.6   62.0  5.77  5.74  3.43\n",
       "129047  322620   1.01    Premium     G    VVS2   62.3   58.0  6.44  6.41  4.01\n",
       "129048  322621   1.35      Ideal     D      I1   62.0   56.0  7.05  7.08  4.38\n",
       "129049  322622   1.07    Premium     H     SI2   62.6   60.0  6.49  6.45  4.06\n",
       "\n",
       "[129050 rows x 10 columns]"
      ]
     },
     "execution_count": 4,
     "metadata": {},
     "output_type": "execute_result"
    }
   ],
   "source": [
    "df2= pd.read_csv('/kaggle/input/playground-series-s3e8/test.csv')\n",
    "df2"
   ]
  },
  {
   "cell_type": "code",
   "execution_count": 5,
   "metadata": {
    "execution": {
     "iopub.execute_input": "2023-12-15T05:00:11.314273Z",
     "iopub.status.busy": "2023-12-15T05:00:11.311002Z",
     "iopub.status.idle": "2023-12-15T05:00:11.359023Z",
     "shell.execute_reply": "2023-12-15T05:00:11.357147Z",
     "shell.execute_reply.started": "2023-12-15T05:00:11.314201Z"
    }
   },
   "outputs": [
    {
     "name": "stdout",
     "output_type": "stream",
     "text": [
      "<class 'pandas.core.frame.DataFrame'>\n",
      "RangeIndex: 193573 entries, 0 to 193572\n",
      "Data columns (total 11 columns):\n",
      " #   Column   Non-Null Count   Dtype  \n",
      "---  ------   --------------   -----  \n",
      " 0   id       193573 non-null  int64  \n",
      " 1   carat    193573 non-null  float64\n",
      " 2   cut      193573 non-null  object \n",
      " 3   color    193573 non-null  object \n",
      " 4   clarity  193573 non-null  object \n",
      " 5   depth    193573 non-null  float64\n",
      " 6   table    193573 non-null  float64\n",
      " 7   x        193573 non-null  float64\n",
      " 8   y        193573 non-null  float64\n",
      " 9   z        193573 non-null  float64\n",
      " 10  price    193573 non-null  int64  \n",
      "dtypes: float64(6), int64(2), object(3)\n",
      "memory usage: 16.2+ MB\n"
     ]
    }
   ],
   "source": [
    "df1.info()"
   ]
  },
  {
   "cell_type": "code",
   "execution_count": 6,
   "metadata": {
    "execution": {
     "iopub.execute_input": "2023-12-15T05:00:14.213493Z",
     "iopub.status.busy": "2023-12-15T05:00:14.212989Z",
     "iopub.status.idle": "2023-12-15T05:00:14.243053Z",
     "shell.execute_reply": "2023-12-15T05:00:14.241882Z",
     "shell.execute_reply.started": "2023-12-15T05:00:14.213449Z"
    }
   },
   "outputs": [
    {
     "data": {
      "text/plain": [
       "id         0\n",
       "carat      0\n",
       "cut        0\n",
       "color      0\n",
       "clarity    0\n",
       "depth      0\n",
       "table      0\n",
       "x          0\n",
       "y          0\n",
       "z          0\n",
       "price      0\n",
       "dtype: int64"
      ]
     },
     "execution_count": 6,
     "metadata": {},
     "output_type": "execute_result"
    }
   ],
   "source": [
    "df1.isnull().sum()"
   ]
  },
  {
   "cell_type": "code",
   "execution_count": 7,
   "metadata": {
    "execution": {
     "iopub.execute_input": "2023-12-15T05:00:15.827887Z",
     "iopub.status.busy": "2023-12-15T05:00:15.827337Z",
     "iopub.status.idle": "2023-12-15T05:00:15.857086Z",
     "shell.execute_reply": "2023-12-15T05:00:15.855222Z",
     "shell.execute_reply.started": "2023-12-15T05:00:15.827846Z"
    }
   },
   "outputs": [
    {
     "name": "stdout",
     "output_type": "stream",
     "text": [
      "<class 'pandas.core.frame.DataFrame'>\n",
      "RangeIndex: 129050 entries, 0 to 129049\n",
      "Data columns (total 10 columns):\n",
      " #   Column   Non-Null Count   Dtype  \n",
      "---  ------   --------------   -----  \n",
      " 0   id       129050 non-null  int64  \n",
      " 1   carat    129050 non-null  float64\n",
      " 2   cut      129050 non-null  object \n",
      " 3   color    129050 non-null  object \n",
      " 4   clarity  129050 non-null  object \n",
      " 5   depth    129050 non-null  float64\n",
      " 6   table    129050 non-null  float64\n",
      " 7   x        129050 non-null  float64\n",
      " 8   y        129050 non-null  float64\n",
      " 9   z        129050 non-null  float64\n",
      "dtypes: float64(6), int64(1), object(3)\n",
      "memory usage: 9.8+ MB\n"
     ]
    }
   ],
   "source": [
    "df2.info()"
   ]
  },
  {
   "cell_type": "code",
   "execution_count": 8,
   "metadata": {
    "execution": {
     "iopub.execute_input": "2023-12-15T05:00:16.489139Z",
     "iopub.status.busy": "2023-12-15T05:00:16.488726Z",
     "iopub.status.idle": "2023-12-15T05:00:16.510673Z",
     "shell.execute_reply": "2023-12-15T05:00:16.508660Z",
     "shell.execute_reply.started": "2023-12-15T05:00:16.489108Z"
    }
   },
   "outputs": [
    {
     "data": {
      "text/plain": [
       "id         0\n",
       "carat      0\n",
       "cut        0\n",
       "color      0\n",
       "clarity    0\n",
       "depth      0\n",
       "table      0\n",
       "x          0\n",
       "y          0\n",
       "z          0\n",
       "dtype: int64"
      ]
     },
     "execution_count": 8,
     "metadata": {},
     "output_type": "execute_result"
    }
   ],
   "source": [
    "df2.isnull().sum()"
   ]
  },
  {
   "cell_type": "code",
   "execution_count": 9,
   "metadata": {
    "execution": {
     "iopub.execute_input": "2023-12-15T05:00:18.146764Z",
     "iopub.status.busy": "2023-12-15T05:00:18.146325Z",
     "iopub.status.idle": "2023-12-15T05:00:18.154428Z",
     "shell.execute_reply": "2023-12-15T05:00:18.153390Z",
     "shell.execute_reply.started": "2023-12-15T05:00:18.146730Z"
    }
   },
   "outputs": [
    {
     "data": {
      "text/plain": [
       "((193573, 11), (129050, 10))"
      ]
     },
     "execution_count": 9,
     "metadata": {},
     "output_type": "execute_result"
    }
   ],
   "source": [
    "df1.shape,df2.shape\n",
    "\n",
    "#df2  df1 e göre 1 tane eksik. bziden bunu tahmin etmemiz isteniyor"
   ]
  },
  {
   "cell_type": "code",
   "execution_count": 10,
   "metadata": {
    "execution": {
     "iopub.execute_input": "2023-12-15T05:00:24.772460Z",
     "iopub.status.busy": "2023-12-15T05:00:24.772121Z",
     "iopub.status.idle": "2023-12-15T05:00:24.792956Z",
     "shell.execute_reply": "2023-12-15T05:00:24.791805Z",
     "shell.execute_reply.started": "2023-12-15T05:00:24.772434Z"
    }
   },
   "outputs": [],
   "source": [
    "df=pd.concat([df1,df2])"
   ]
  },
  {
   "cell_type": "code",
   "execution_count": 11,
   "metadata": {
    "execution": {
     "iopub.execute_input": "2023-12-15T05:00:25.777931Z",
     "iopub.status.busy": "2023-12-15T05:00:25.777466Z",
     "iopub.status.idle": "2023-12-15T05:00:25.821860Z",
     "shell.execute_reply": "2023-12-15T05:00:25.820190Z",
     "shell.execute_reply.started": "2023-12-15T05:00:25.777891Z"
    }
   },
   "outputs": [
    {
     "name": "stdout",
     "output_type": "stream",
     "text": [
      "<class 'pandas.core.frame.DataFrame'>\n",
      "Index: 322623 entries, 0 to 129049\n",
      "Data columns (total 11 columns):\n",
      " #   Column   Non-Null Count   Dtype  \n",
      "---  ------   --------------   -----  \n",
      " 0   id       322623 non-null  int64  \n",
      " 1   carat    322623 non-null  float64\n",
      " 2   cut      322623 non-null  object \n",
      " 3   color    322623 non-null  object \n",
      " 4   clarity  322623 non-null  object \n",
      " 5   depth    322623 non-null  float64\n",
      " 6   table    322623 non-null  float64\n",
      " 7   x        322623 non-null  float64\n",
      " 8   y        322623 non-null  float64\n",
      " 9   z        322623 non-null  float64\n",
      " 10  price    193573 non-null  float64\n",
      "dtypes: float64(7), int64(1), object(3)\n",
      "memory usage: 29.5+ MB\n"
     ]
    }
   ],
   "source": [
    "df.info()\n",
    "\n",
    "#ikisini birleştirdik ve tek bir df oldu"
   ]
  },
  {
   "cell_type": "code",
   "execution_count": 12,
   "metadata": {
    "execution": {
     "iopub.execute_input": "2023-12-15T05:00:30.476185Z",
     "iopub.status.busy": "2023-12-15T05:00:30.475861Z",
     "iopub.status.idle": "2023-12-15T05:00:30.514504Z",
     "shell.execute_reply": "2023-12-15T05:00:30.513134Z",
     "shell.execute_reply.started": "2023-12-15T05:00:30.476159Z"
    }
   },
   "outputs": [
    {
     "data": {
      "text/plain": [
       "id              0\n",
       "carat           0\n",
       "cut             0\n",
       "color           0\n",
       "clarity         0\n",
       "depth           0\n",
       "table           0\n",
       "x               0\n",
       "y               0\n",
       "z               0\n",
       "price      129050\n",
       "dtype: int64"
      ]
     },
     "execution_count": 12,
     "metadata": {},
     "output_type": "execute_result"
    }
   ],
   "source": [
    "df.isnull().sum()"
   ]
  },
  {
   "cell_type": "code",
   "execution_count": 13,
   "metadata": {
    "execution": {
     "iopub.execute_input": "2023-12-15T05:00:34.686965Z",
     "iopub.status.busy": "2023-12-15T05:00:34.686465Z",
     "iopub.status.idle": "2023-12-15T05:00:35.595540Z",
     "shell.execute_reply": "2023-12-15T05:00:35.593759Z",
     "shell.execute_reply.started": "2023-12-15T05:00:34.686925Z"
    }
   },
   "outputs": [],
   "source": [
    "import pandas as pd\n",
    "import matplotlib.pyplot as plt\n",
    "import seaborn as sns\n",
    "import numpy as np\n",
    "\n",
    "from sklearn.model_selection import train_test_split\n",
    "from scipy import stats\n",
    "from sklearn.metrics import r2_score,mean_squared_error,mean_absolute_error\n",
    "\n",
    "from sklearn.linear_model import LinearRegression,Ridge,Lasso,ElasticNet\n",
    "from sklearn.tree import ExtraTreeRegressor\n",
    "from sklearn.ensemble import GradientBoostingRegressor"
   ]
  },
  {
   "cell_type": "code",
   "execution_count": 14,
   "metadata": {
    "execution": {
     "iopub.execute_input": "2023-12-15T05:00:38.148588Z",
     "iopub.status.busy": "2023-12-15T05:00:38.148138Z",
     "iopub.status.idle": "2023-12-15T05:00:38.174007Z",
     "shell.execute_reply": "2023-12-15T05:00:38.172585Z",
     "shell.execute_reply.started": "2023-12-15T05:00:38.148553Z"
    }
   },
   "outputs": [
    {
     "data": {
      "text/html": [
       "<div>\n",
       "<style scoped>\n",
       "    .dataframe tbody tr th:only-of-type {\n",
       "        vertical-align: middle;\n",
       "    }\n",
       "\n",
       "    .dataframe tbody tr th {\n",
       "        vertical-align: top;\n",
       "    }\n",
       "\n",
       "    .dataframe thead th {\n",
       "        text-align: right;\n",
       "    }\n",
       "</style>\n",
       "<table border=\"1\" class=\"dataframe\">\n",
       "  <thead>\n",
       "    <tr style=\"text-align: right;\">\n",
       "      <th></th>\n",
       "      <th>id</th>\n",
       "      <th>carat</th>\n",
       "      <th>cut</th>\n",
       "      <th>color</th>\n",
       "      <th>clarity</th>\n",
       "      <th>depth</th>\n",
       "      <th>table</th>\n",
       "      <th>x</th>\n",
       "      <th>y</th>\n",
       "      <th>z</th>\n",
       "      <th>price</th>\n",
       "    </tr>\n",
       "  </thead>\n",
       "  <tbody>\n",
       "    <tr>\n",
       "      <th>0</th>\n",
       "      <td>0</td>\n",
       "      <td>1.52</td>\n",
       "      <td>Premium</td>\n",
       "      <td>F</td>\n",
       "      <td>VS2</td>\n",
       "      <td>62.2</td>\n",
       "      <td>58.0</td>\n",
       "      <td>7.27</td>\n",
       "      <td>7.33</td>\n",
       "      <td>4.55</td>\n",
       "      <td>13619.0</td>\n",
       "    </tr>\n",
       "    <tr>\n",
       "      <th>1</th>\n",
       "      <td>1</td>\n",
       "      <td>2.03</td>\n",
       "      <td>Very Good</td>\n",
       "      <td>J</td>\n",
       "      <td>SI2</td>\n",
       "      <td>62.0</td>\n",
       "      <td>58.0</td>\n",
       "      <td>8.06</td>\n",
       "      <td>8.12</td>\n",
       "      <td>5.05</td>\n",
       "      <td>13387.0</td>\n",
       "    </tr>\n",
       "    <tr>\n",
       "      <th>2</th>\n",
       "      <td>2</td>\n",
       "      <td>0.70</td>\n",
       "      <td>Ideal</td>\n",
       "      <td>G</td>\n",
       "      <td>VS1</td>\n",
       "      <td>61.2</td>\n",
       "      <td>57.0</td>\n",
       "      <td>5.69</td>\n",
       "      <td>5.73</td>\n",
       "      <td>3.50</td>\n",
       "      <td>2772.0</td>\n",
       "    </tr>\n",
       "    <tr>\n",
       "      <th>3</th>\n",
       "      <td>3</td>\n",
       "      <td>0.32</td>\n",
       "      <td>Ideal</td>\n",
       "      <td>G</td>\n",
       "      <td>VS1</td>\n",
       "      <td>61.6</td>\n",
       "      <td>56.0</td>\n",
       "      <td>4.38</td>\n",
       "      <td>4.41</td>\n",
       "      <td>2.71</td>\n",
       "      <td>666.0</td>\n",
       "    </tr>\n",
       "    <tr>\n",
       "      <th>4</th>\n",
       "      <td>4</td>\n",
       "      <td>1.70</td>\n",
       "      <td>Premium</td>\n",
       "      <td>G</td>\n",
       "      <td>VS2</td>\n",
       "      <td>62.6</td>\n",
       "      <td>59.0</td>\n",
       "      <td>7.65</td>\n",
       "      <td>7.61</td>\n",
       "      <td>4.77</td>\n",
       "      <td>14453.0</td>\n",
       "    </tr>\n",
       "    <tr>\n",
       "      <th>...</th>\n",
       "      <td>...</td>\n",
       "      <td>...</td>\n",
       "      <td>...</td>\n",
       "      <td>...</td>\n",
       "      <td>...</td>\n",
       "      <td>...</td>\n",
       "      <td>...</td>\n",
       "      <td>...</td>\n",
       "      <td>...</td>\n",
       "      <td>...</td>\n",
       "      <td>...</td>\n",
       "    </tr>\n",
       "    <tr>\n",
       "      <th>129045</th>\n",
       "      <td>322618</td>\n",
       "      <td>0.72</td>\n",
       "      <td>Ideal</td>\n",
       "      <td>D</td>\n",
       "      <td>VVS2</td>\n",
       "      <td>62.0</td>\n",
       "      <td>56.0</td>\n",
       "      <td>5.75</td>\n",
       "      <td>5.78</td>\n",
       "      <td>3.57</td>\n",
       "      <td>NaN</td>\n",
       "    </tr>\n",
       "    <tr>\n",
       "      <th>129046</th>\n",
       "      <td>322619</td>\n",
       "      <td>0.70</td>\n",
       "      <td>Premium</td>\n",
       "      <td>D</td>\n",
       "      <td>SI1</td>\n",
       "      <td>59.6</td>\n",
       "      <td>62.0</td>\n",
       "      <td>5.77</td>\n",
       "      <td>5.74</td>\n",
       "      <td>3.43</td>\n",
       "      <td>NaN</td>\n",
       "    </tr>\n",
       "    <tr>\n",
       "      <th>129047</th>\n",
       "      <td>322620</td>\n",
       "      <td>1.01</td>\n",
       "      <td>Premium</td>\n",
       "      <td>G</td>\n",
       "      <td>VVS2</td>\n",
       "      <td>62.3</td>\n",
       "      <td>58.0</td>\n",
       "      <td>6.44</td>\n",
       "      <td>6.41</td>\n",
       "      <td>4.01</td>\n",
       "      <td>NaN</td>\n",
       "    </tr>\n",
       "    <tr>\n",
       "      <th>129048</th>\n",
       "      <td>322621</td>\n",
       "      <td>1.35</td>\n",
       "      <td>Ideal</td>\n",
       "      <td>D</td>\n",
       "      <td>I1</td>\n",
       "      <td>62.0</td>\n",
       "      <td>56.0</td>\n",
       "      <td>7.05</td>\n",
       "      <td>7.08</td>\n",
       "      <td>4.38</td>\n",
       "      <td>NaN</td>\n",
       "    </tr>\n",
       "    <tr>\n",
       "      <th>129049</th>\n",
       "      <td>322622</td>\n",
       "      <td>1.07</td>\n",
       "      <td>Premium</td>\n",
       "      <td>H</td>\n",
       "      <td>SI2</td>\n",
       "      <td>62.6</td>\n",
       "      <td>60.0</td>\n",
       "      <td>6.49</td>\n",
       "      <td>6.45</td>\n",
       "      <td>4.06</td>\n",
       "      <td>NaN</td>\n",
       "    </tr>\n",
       "  </tbody>\n",
       "</table>\n",
       "<p>322623 rows × 11 columns</p>\n",
       "</div>"
      ],
      "text/plain": [
       "            id  carat        cut color clarity  depth  table     x     y  \\\n",
       "0            0   1.52    Premium     F     VS2   62.2   58.0  7.27  7.33   \n",
       "1            1   2.03  Very Good     J     SI2   62.0   58.0  8.06  8.12   \n",
       "2            2   0.70      Ideal     G     VS1   61.2   57.0  5.69  5.73   \n",
       "3            3   0.32      Ideal     G     VS1   61.6   56.0  4.38  4.41   \n",
       "4            4   1.70    Premium     G     VS2   62.6   59.0  7.65  7.61   \n",
       "...        ...    ...        ...   ...     ...    ...    ...   ...   ...   \n",
       "129045  322618   0.72      Ideal     D    VVS2   62.0   56.0  5.75  5.78   \n",
       "129046  322619   0.70    Premium     D     SI1   59.6   62.0  5.77  5.74   \n",
       "129047  322620   1.01    Premium     G    VVS2   62.3   58.0  6.44  6.41   \n",
       "129048  322621   1.35      Ideal     D      I1   62.0   56.0  7.05  7.08   \n",
       "129049  322622   1.07    Premium     H     SI2   62.6   60.0  6.49  6.45   \n",
       "\n",
       "           z    price  \n",
       "0       4.55  13619.0  \n",
       "1       5.05  13387.0  \n",
       "2       3.50   2772.0  \n",
       "3       2.71    666.0  \n",
       "4       4.77  14453.0  \n",
       "...      ...      ...  \n",
       "129045  3.57      NaN  \n",
       "129046  3.43      NaN  \n",
       "129047  4.01      NaN  \n",
       "129048  4.38      NaN  \n",
       "129049  4.06      NaN  \n",
       "\n",
       "[322623 rows x 11 columns]"
      ]
     },
     "execution_count": 14,
     "metadata": {},
     "output_type": "execute_result"
    }
   ],
   "source": [
    "df"
   ]
  },
  {
   "cell_type": "code",
   "execution_count": 15,
   "metadata": {
    "execution": {
     "iopub.execute_input": "2023-12-15T05:00:40.747776Z",
     "iopub.status.busy": "2023-12-15T05:00:40.746865Z",
     "iopub.status.idle": "2023-12-15T05:00:40.779209Z",
     "shell.execute_reply": "2023-12-15T05:00:40.778310Z",
     "shell.execute_reply.started": "2023-12-15T05:00:40.747732Z"
    }
   },
   "outputs": [
    {
     "name": "stdout",
     "output_type": "stream",
     "text": [
      "<class 'pandas.core.frame.DataFrame'>\n",
      "RangeIndex: 193573 entries, 0 to 193572\n",
      "Data columns (total 11 columns):\n",
      " #   Column   Non-Null Count   Dtype  \n",
      "---  ------   --------------   -----  \n",
      " 0   id       193573 non-null  int64  \n",
      " 1   carat    193573 non-null  float64\n",
      " 2   cut      193573 non-null  object \n",
      " 3   color    193573 non-null  object \n",
      " 4   clarity  193573 non-null  object \n",
      " 5   depth    193573 non-null  float64\n",
      " 6   table    193573 non-null  float64\n",
      " 7   x        193573 non-null  float64\n",
      " 8   y        193573 non-null  float64\n",
      " 9   z        193573 non-null  float64\n",
      " 10  price    193573 non-null  int64  \n",
      "dtypes: float64(6), int64(2), object(3)\n",
      "memory usage: 16.2+ MB\n"
     ]
    }
   ],
   "source": [
    "df1.info()"
   ]
  },
  {
   "cell_type": "code",
   "execution_count": 16,
   "metadata": {
    "execution": {
     "iopub.execute_input": "2023-12-15T05:00:42.213309Z",
     "iopub.status.busy": "2023-12-15T05:00:42.212973Z",
     "iopub.status.idle": "2023-12-15T05:00:42.270935Z",
     "shell.execute_reply": "2023-12-15T05:00:42.270116Z",
     "shell.execute_reply.started": "2023-12-15T05:00:42.213281Z"
    }
   },
   "outputs": [
    {
     "data": {
      "text/html": [
       "<div>\n",
       "<style scoped>\n",
       "    .dataframe tbody tr th:only-of-type {\n",
       "        vertical-align: middle;\n",
       "    }\n",
       "\n",
       "    .dataframe tbody tr th {\n",
       "        vertical-align: top;\n",
       "    }\n",
       "\n",
       "    .dataframe thead th {\n",
       "        text-align: right;\n",
       "    }\n",
       "</style>\n",
       "<table border=\"1\" class=\"dataframe\">\n",
       "  <thead>\n",
       "    <tr style=\"text-align: right;\">\n",
       "      <th></th>\n",
       "      <th>id</th>\n",
       "      <th>carat</th>\n",
       "      <th>depth</th>\n",
       "      <th>table</th>\n",
       "      <th>x</th>\n",
       "      <th>y</th>\n",
       "      <th>z</th>\n",
       "      <th>price</th>\n",
       "    </tr>\n",
       "  </thead>\n",
       "  <tbody>\n",
       "    <tr>\n",
       "      <th>id</th>\n",
       "      <td>1.000000</td>\n",
       "      <td>-0.002076</td>\n",
       "      <td>0.000901</td>\n",
       "      <td>0.003556</td>\n",
       "      <td>-0.001977</td>\n",
       "      <td>-0.002063</td>\n",
       "      <td>-0.002003</td>\n",
       "      <td>-0.001392</td>\n",
       "    </tr>\n",
       "    <tr>\n",
       "      <th>carat</th>\n",
       "      <td>-0.002076</td>\n",
       "      <td>1.000000</td>\n",
       "      <td>0.026491</td>\n",
       "      <td>0.225726</td>\n",
       "      <td>0.980528</td>\n",
       "      <td>0.980089</td>\n",
       "      <td>0.972880</td>\n",
       "      <td>0.943396</td>\n",
       "    </tr>\n",
       "    <tr>\n",
       "      <th>depth</th>\n",
       "      <td>0.000901</td>\n",
       "      <td>0.026491</td>\n",
       "      <td>1.000000</td>\n",
       "      <td>-0.233942</td>\n",
       "      <td>-0.011967</td>\n",
       "      <td>-0.012801</td>\n",
       "      <td>0.080541</td>\n",
       "      <td>0.001880</td>\n",
       "    </tr>\n",
       "    <tr>\n",
       "      <th>table</th>\n",
       "      <td>0.003556</td>\n",
       "      <td>0.225726</td>\n",
       "      <td>-0.233942</td>\n",
       "      <td>1.000000</td>\n",
       "      <td>0.237945</td>\n",
       "      <td>0.233617</td>\n",
       "      <td>0.211627</td>\n",
       "      <td>0.174915</td>\n",
       "    </tr>\n",
       "    <tr>\n",
       "      <th>x</th>\n",
       "      <td>-0.001977</td>\n",
       "      <td>0.980528</td>\n",
       "      <td>-0.011967</td>\n",
       "      <td>0.237945</td>\n",
       "      <td>1.000000</td>\n",
       "      <td>0.999126</td>\n",
       "      <td>0.988376</td>\n",
       "      <td>0.901004</td>\n",
       "    </tr>\n",
       "    <tr>\n",
       "      <th>y</th>\n",
       "      <td>-0.002063</td>\n",
       "      <td>0.980089</td>\n",
       "      <td>-0.012801</td>\n",
       "      <td>0.233617</td>\n",
       "      <td>0.999126</td>\n",
       "      <td>1.000000</td>\n",
       "      <td>0.988223</td>\n",
       "      <td>0.901033</td>\n",
       "    </tr>\n",
       "    <tr>\n",
       "      <th>z</th>\n",
       "      <td>-0.002003</td>\n",
       "      <td>0.972880</td>\n",
       "      <td>0.080541</td>\n",
       "      <td>0.211627</td>\n",
       "      <td>0.988376</td>\n",
       "      <td>0.988223</td>\n",
       "      <td>1.000000</td>\n",
       "      <td>0.893037</td>\n",
       "    </tr>\n",
       "    <tr>\n",
       "      <th>price</th>\n",
       "      <td>-0.001392</td>\n",
       "      <td>0.943396</td>\n",
       "      <td>0.001880</td>\n",
       "      <td>0.174915</td>\n",
       "      <td>0.901004</td>\n",
       "      <td>0.901033</td>\n",
       "      <td>0.893037</td>\n",
       "      <td>1.000000</td>\n",
       "    </tr>\n",
       "  </tbody>\n",
       "</table>\n",
       "</div>"
      ],
      "text/plain": [
       "             id     carat     depth     table         x         y         z  \\\n",
       "id     1.000000 -0.002076  0.000901  0.003556 -0.001977 -0.002063 -0.002003   \n",
       "carat -0.002076  1.000000  0.026491  0.225726  0.980528  0.980089  0.972880   \n",
       "depth  0.000901  0.026491  1.000000 -0.233942 -0.011967 -0.012801  0.080541   \n",
       "table  0.003556  0.225726 -0.233942  1.000000  0.237945  0.233617  0.211627   \n",
       "x     -0.001977  0.980528 -0.011967  0.237945  1.000000  0.999126  0.988376   \n",
       "y     -0.002063  0.980089 -0.012801  0.233617  0.999126  1.000000  0.988223   \n",
       "z     -0.002003  0.972880  0.080541  0.211627  0.988376  0.988223  1.000000   \n",
       "price -0.001392  0.943396  0.001880  0.174915  0.901004  0.901033  0.893037   \n",
       "\n",
       "          price  \n",
       "id    -0.001392  \n",
       "carat  0.943396  \n",
       "depth  0.001880  \n",
       "table  0.174915  \n",
       "x      0.901004  \n",
       "y      0.901033  \n",
       "z      0.893037  \n",
       "price  1.000000  "
      ]
     },
     "execution_count": 16,
     "metadata": {},
     "output_type": "execute_result"
    }
   ],
   "source": [
    "df.corr(numeric_only=True)"
   ]
  },
  {
   "cell_type": "code",
   "execution_count": 17,
   "metadata": {
    "execution": {
     "iopub.execute_input": "2023-12-15T05:00:47.475266Z",
     "iopub.status.busy": "2023-12-15T05:00:47.474790Z",
     "iopub.status.idle": "2023-12-15T05:00:47.493294Z",
     "shell.execute_reply": "2023-12-15T05:00:47.492395Z",
     "shell.execute_reply.started": "2023-12-15T05:00:47.475224Z"
    }
   },
   "outputs": [
    {
     "data": {
      "text/plain": [
       "cut\n",
       "Ideal        153677\n",
       "Premium       83408\n",
       "Very Good     63034\n",
       "Good          19176\n",
       "Fair           3328\n",
       "Name: count, dtype: int64"
      ]
     },
     "execution_count": 17,
     "metadata": {},
     "output_type": "execute_result"
    }
   ],
   "source": [
    "df[\"cut\"].value_counts(dropna=False)"
   ]
  },
  {
   "cell_type": "code",
   "execution_count": 18,
   "metadata": {
    "execution": {
     "iopub.execute_input": "2023-12-15T05:00:49.645736Z",
     "iopub.status.busy": "2023-12-15T05:00:49.645285Z",
     "iopub.status.idle": "2023-12-15T05:00:49.660280Z",
     "shell.execute_reply": "2023-12-15T05:00:49.658489Z",
     "shell.execute_reply.started": "2023-12-15T05:00:49.645700Z"
    }
   },
   "outputs": [
    {
     "data": {
      "text/plain": [
       "color\n",
       "G    73952\n",
       "E    59955\n",
       "F    57025\n",
       "H    51375\n",
       "D    40453\n",
       "I    29199\n",
       "J    10664\n",
       "Name: count, dtype: int64"
      ]
     },
     "execution_count": 18,
     "metadata": {},
     "output_type": "execute_result"
    }
   ],
   "source": [
    "df[\"color\"].value_counts(dropna=False)"
   ]
  },
  {
   "cell_type": "code",
   "execution_count": 19,
   "metadata": {
    "execution": {
     "iopub.execute_input": "2023-12-15T05:00:54.707456Z",
     "iopub.status.busy": "2023-12-15T05:00:54.707066Z",
     "iopub.status.idle": "2023-12-15T05:00:54.728332Z",
     "shell.execute_reply": "2023-12-15T05:00:54.725165Z",
     "shell.execute_reply.started": "2023-12-15T05:00:54.707423Z"
    }
   },
   "outputs": [
    {
     "data": {
      "text/plain": [
       "clarity\n",
       "SI1     88608\n",
       "VS2     80228\n",
       "VS1     51188\n",
       "SI2     50651\n",
       "VVS2    26079\n",
       "VVS1    17955\n",
       "IF       7010\n",
       "I1        904\n",
       "Name: count, dtype: int64"
      ]
     },
     "execution_count": 19,
     "metadata": {},
     "output_type": "execute_result"
    }
   ],
   "source": [
    "df[\"clarity\"].value_counts(dropna=False)"
   ]
  },
  {
   "cell_type": "code",
   "execution_count": 20,
   "metadata": {
    "execution": {
     "iopub.execute_input": "2023-12-15T05:00:56.387553Z",
     "iopub.status.busy": "2023-12-15T05:00:56.387189Z",
     "iopub.status.idle": "2023-12-15T05:00:56.446808Z",
     "shell.execute_reply": "2023-12-15T05:00:56.444774Z",
     "shell.execute_reply.started": "2023-12-15T05:00:56.387523Z"
    }
   },
   "outputs": [
    {
     "data": {
      "text/plain": [
       "price    1.000000\n",
       "carat    0.943396\n",
       "y        0.901033\n",
       "x        0.901004\n",
       "z        0.893037\n",
       "table    0.174915\n",
       "depth    0.001880\n",
       "id       0.001392\n",
       "Name: price, dtype: float64"
      ]
     },
     "execution_count": 20,
     "metadata": {},
     "output_type": "execute_result"
    }
   ],
   "source": [
    "abs(df.corr(numeric_only=True)['price'].sort_values(ascending=False))"
   ]
  },
  {
   "cell_type": "code",
   "execution_count": 42,
   "metadata": {
    "execution": {
     "iopub.execute_input": "2023-12-15T05:13:08.114711Z",
     "iopub.status.busy": "2023-12-15T05:13:08.114308Z",
     "iopub.status.idle": "2023-12-15T05:13:08.143545Z",
     "shell.execute_reply": "2023-12-15T05:13:08.141549Z",
     "shell.execute_reply.started": "2023-12-15T05:13:08.114679Z"
    }
   },
   "outputs": [
    {
     "data": {
      "text/html": [
       "<div>\n",
       "<style scoped>\n",
       "    .dataframe tbody tr th:only-of-type {\n",
       "        vertical-align: middle;\n",
       "    }\n",
       "\n",
       "    .dataframe tbody tr th {\n",
       "        vertical-align: top;\n",
       "    }\n",
       "\n",
       "    .dataframe thead th {\n",
       "        text-align: right;\n",
       "    }\n",
       "</style>\n",
       "<table border=\"1\" class=\"dataframe\">\n",
       "  <thead>\n",
       "    <tr style=\"text-align: right;\">\n",
       "      <th></th>\n",
       "      <th>id</th>\n",
       "      <th>carat</th>\n",
       "      <th>cut</th>\n",
       "      <th>color</th>\n",
       "      <th>clarity</th>\n",
       "      <th>depth</th>\n",
       "      <th>table</th>\n",
       "      <th>x</th>\n",
       "      <th>y</th>\n",
       "      <th>z</th>\n",
       "      <th>price</th>\n",
       "    </tr>\n",
       "  </thead>\n",
       "  <tbody>\n",
       "    <tr>\n",
       "      <th>0</th>\n",
       "      <td>0</td>\n",
       "      <td>1.52</td>\n",
       "      <td>Premium</td>\n",
       "      <td>F</td>\n",
       "      <td>VS2</td>\n",
       "      <td>62.2</td>\n",
       "      <td>58.0</td>\n",
       "      <td>7.27</td>\n",
       "      <td>7.33</td>\n",
       "      <td>4.55</td>\n",
       "      <td>13619.0</td>\n",
       "    </tr>\n",
       "    <tr>\n",
       "      <th>1</th>\n",
       "      <td>1</td>\n",
       "      <td>2.03</td>\n",
       "      <td>Very Good</td>\n",
       "      <td>J</td>\n",
       "      <td>SI2</td>\n",
       "      <td>62.0</td>\n",
       "      <td>58.0</td>\n",
       "      <td>8.06</td>\n",
       "      <td>8.12</td>\n",
       "      <td>5.05</td>\n",
       "      <td>13387.0</td>\n",
       "    </tr>\n",
       "    <tr>\n",
       "      <th>2</th>\n",
       "      <td>2</td>\n",
       "      <td>0.70</td>\n",
       "      <td>Ideal</td>\n",
       "      <td>G</td>\n",
       "      <td>VS1</td>\n",
       "      <td>61.2</td>\n",
       "      <td>57.0</td>\n",
       "      <td>5.69</td>\n",
       "      <td>5.73</td>\n",
       "      <td>3.50</td>\n",
       "      <td>2772.0</td>\n",
       "    </tr>\n",
       "    <tr>\n",
       "      <th>3</th>\n",
       "      <td>3</td>\n",
       "      <td>0.32</td>\n",
       "      <td>Ideal</td>\n",
       "      <td>G</td>\n",
       "      <td>VS1</td>\n",
       "      <td>61.6</td>\n",
       "      <td>56.0</td>\n",
       "      <td>4.38</td>\n",
       "      <td>4.41</td>\n",
       "      <td>2.71</td>\n",
       "      <td>666.0</td>\n",
       "    </tr>\n",
       "    <tr>\n",
       "      <th>4</th>\n",
       "      <td>4</td>\n",
       "      <td>1.70</td>\n",
       "      <td>Premium</td>\n",
       "      <td>G</td>\n",
       "      <td>VS2</td>\n",
       "      <td>62.6</td>\n",
       "      <td>59.0</td>\n",
       "      <td>7.65</td>\n",
       "      <td>7.61</td>\n",
       "      <td>4.77</td>\n",
       "      <td>14453.0</td>\n",
       "    </tr>\n",
       "    <tr>\n",
       "      <th>...</th>\n",
       "      <td>...</td>\n",
       "      <td>...</td>\n",
       "      <td>...</td>\n",
       "      <td>...</td>\n",
       "      <td>...</td>\n",
       "      <td>...</td>\n",
       "      <td>...</td>\n",
       "      <td>...</td>\n",
       "      <td>...</td>\n",
       "      <td>...</td>\n",
       "      <td>...</td>\n",
       "    </tr>\n",
       "    <tr>\n",
       "      <th>129045</th>\n",
       "      <td>322618</td>\n",
       "      <td>0.72</td>\n",
       "      <td>Ideal</td>\n",
       "      <td>D</td>\n",
       "      <td>VVS2</td>\n",
       "      <td>62.0</td>\n",
       "      <td>56.0</td>\n",
       "      <td>5.75</td>\n",
       "      <td>5.78</td>\n",
       "      <td>3.57</td>\n",
       "      <td>NaN</td>\n",
       "    </tr>\n",
       "    <tr>\n",
       "      <th>129046</th>\n",
       "      <td>322619</td>\n",
       "      <td>0.70</td>\n",
       "      <td>Premium</td>\n",
       "      <td>D</td>\n",
       "      <td>SI1</td>\n",
       "      <td>59.6</td>\n",
       "      <td>62.0</td>\n",
       "      <td>5.77</td>\n",
       "      <td>5.74</td>\n",
       "      <td>3.43</td>\n",
       "      <td>NaN</td>\n",
       "    </tr>\n",
       "    <tr>\n",
       "      <th>129047</th>\n",
       "      <td>322620</td>\n",
       "      <td>1.01</td>\n",
       "      <td>Premium</td>\n",
       "      <td>G</td>\n",
       "      <td>VVS2</td>\n",
       "      <td>62.3</td>\n",
       "      <td>58.0</td>\n",
       "      <td>6.44</td>\n",
       "      <td>6.41</td>\n",
       "      <td>4.01</td>\n",
       "      <td>NaN</td>\n",
       "    </tr>\n",
       "    <tr>\n",
       "      <th>129048</th>\n",
       "      <td>322621</td>\n",
       "      <td>1.35</td>\n",
       "      <td>Ideal</td>\n",
       "      <td>D</td>\n",
       "      <td>I1</td>\n",
       "      <td>62.0</td>\n",
       "      <td>56.0</td>\n",
       "      <td>7.05</td>\n",
       "      <td>7.08</td>\n",
       "      <td>4.38</td>\n",
       "      <td>NaN</td>\n",
       "    </tr>\n",
       "    <tr>\n",
       "      <th>129049</th>\n",
       "      <td>322622</td>\n",
       "      <td>1.07</td>\n",
       "      <td>Premium</td>\n",
       "      <td>H</td>\n",
       "      <td>SI2</td>\n",
       "      <td>62.6</td>\n",
       "      <td>60.0</td>\n",
       "      <td>6.49</td>\n",
       "      <td>6.45</td>\n",
       "      <td>4.06</td>\n",
       "      <td>NaN</td>\n",
       "    </tr>\n",
       "  </tbody>\n",
       "</table>\n",
       "<p>322623 rows × 11 columns</p>\n",
       "</div>"
      ],
      "text/plain": [
       "            id  carat        cut color clarity  depth  table     x     y  \\\n",
       "0            0   1.52    Premium     F     VS2   62.2   58.0  7.27  7.33   \n",
       "1            1   2.03  Very Good     J     SI2   62.0   58.0  8.06  8.12   \n",
       "2            2   0.70      Ideal     G     VS1   61.2   57.0  5.69  5.73   \n",
       "3            3   0.32      Ideal     G     VS1   61.6   56.0  4.38  4.41   \n",
       "4            4   1.70    Premium     G     VS2   62.6   59.0  7.65  7.61   \n",
       "...        ...    ...        ...   ...     ...    ...    ...   ...   ...   \n",
       "129045  322618   0.72      Ideal     D    VVS2   62.0   56.0  5.75  5.78   \n",
       "129046  322619   0.70    Premium     D     SI1   59.6   62.0  5.77  5.74   \n",
       "129047  322620   1.01    Premium     G    VVS2   62.3   58.0  6.44  6.41   \n",
       "129048  322621   1.35      Ideal     D      I1   62.0   56.0  7.05  7.08   \n",
       "129049  322622   1.07    Premium     H     SI2   62.6   60.0  6.49  6.45   \n",
       "\n",
       "           z    price  \n",
       "0       4.55  13619.0  \n",
       "1       5.05  13387.0  \n",
       "2       3.50   2772.0  \n",
       "3       2.71    666.0  \n",
       "4       4.77  14453.0  \n",
       "...      ...      ...  \n",
       "129045  3.57      NaN  \n",
       "129046  3.43      NaN  \n",
       "129047  4.01      NaN  \n",
       "129048  4.38      NaN  \n",
       "129049  4.06      NaN  \n",
       "\n",
       "[322623 rows x 11 columns]"
      ]
     },
     "execution_count": 42,
     "metadata": {},
     "output_type": "execute_result"
    }
   ],
   "source": [
    "df"
   ]
  },
  {
   "cell_type": "code",
   "execution_count": 44,
   "metadata": {
    "execution": {
     "iopub.execute_input": "2023-12-15T05:14:30.908607Z",
     "iopub.status.busy": "2023-12-15T05:14:30.908232Z",
     "iopub.status.idle": "2023-12-15T05:14:30.916146Z",
     "shell.execute_reply": "2023-12-15T05:14:30.915186Z",
     "shell.execute_reply.started": "2023-12-15T05:14:30.908580Z"
    }
   },
   "outputs": [],
   "source": [
    "x=df1[['carat', 'depth', 'table', 'x', 'y',\n",
    "       'z']]"
   ]
  },
  {
   "cell_type": "code",
   "execution_count": 45,
   "metadata": {
    "execution": {
     "iopub.execute_input": "2023-12-15T05:14:33.346059Z",
     "iopub.status.busy": "2023-12-15T05:14:33.345679Z",
     "iopub.status.idle": "2023-12-15T05:14:33.363396Z",
     "shell.execute_reply": "2023-12-15T05:14:33.361972Z",
     "shell.execute_reply.started": "2023-12-15T05:14:33.346029Z"
    }
   },
   "outputs": [
    {
     "data": {
      "text/html": [
       "<div>\n",
       "<style scoped>\n",
       "    .dataframe tbody tr th:only-of-type {\n",
       "        vertical-align: middle;\n",
       "    }\n",
       "\n",
       "    .dataframe tbody tr th {\n",
       "        vertical-align: top;\n",
       "    }\n",
       "\n",
       "    .dataframe thead th {\n",
       "        text-align: right;\n",
       "    }\n",
       "</style>\n",
       "<table border=\"1\" class=\"dataframe\">\n",
       "  <thead>\n",
       "    <tr style=\"text-align: right;\">\n",
       "      <th></th>\n",
       "      <th>carat</th>\n",
       "      <th>depth</th>\n",
       "      <th>table</th>\n",
       "      <th>x</th>\n",
       "      <th>y</th>\n",
       "      <th>z</th>\n",
       "    </tr>\n",
       "  </thead>\n",
       "  <tbody>\n",
       "    <tr>\n",
       "      <th>0</th>\n",
       "      <td>1.52</td>\n",
       "      <td>62.2</td>\n",
       "      <td>58.0</td>\n",
       "      <td>7.27</td>\n",
       "      <td>7.33</td>\n",
       "      <td>4.55</td>\n",
       "    </tr>\n",
       "    <tr>\n",
       "      <th>1</th>\n",
       "      <td>2.03</td>\n",
       "      <td>62.0</td>\n",
       "      <td>58.0</td>\n",
       "      <td>8.06</td>\n",
       "      <td>8.12</td>\n",
       "      <td>5.05</td>\n",
       "    </tr>\n",
       "    <tr>\n",
       "      <th>2</th>\n",
       "      <td>0.70</td>\n",
       "      <td>61.2</td>\n",
       "      <td>57.0</td>\n",
       "      <td>5.69</td>\n",
       "      <td>5.73</td>\n",
       "      <td>3.50</td>\n",
       "    </tr>\n",
       "    <tr>\n",
       "      <th>3</th>\n",
       "      <td>0.32</td>\n",
       "      <td>61.6</td>\n",
       "      <td>56.0</td>\n",
       "      <td>4.38</td>\n",
       "      <td>4.41</td>\n",
       "      <td>2.71</td>\n",
       "    </tr>\n",
       "    <tr>\n",
       "      <th>4</th>\n",
       "      <td>1.70</td>\n",
       "      <td>62.6</td>\n",
       "      <td>59.0</td>\n",
       "      <td>7.65</td>\n",
       "      <td>7.61</td>\n",
       "      <td>4.77</td>\n",
       "    </tr>\n",
       "    <tr>\n",
       "      <th>...</th>\n",
       "      <td>...</td>\n",
       "      <td>...</td>\n",
       "      <td>...</td>\n",
       "      <td>...</td>\n",
       "      <td>...</td>\n",
       "      <td>...</td>\n",
       "    </tr>\n",
       "    <tr>\n",
       "      <th>193568</th>\n",
       "      <td>0.31</td>\n",
       "      <td>61.1</td>\n",
       "      <td>56.0</td>\n",
       "      <td>4.35</td>\n",
       "      <td>4.39</td>\n",
       "      <td>2.67</td>\n",
       "    </tr>\n",
       "    <tr>\n",
       "      <th>193569</th>\n",
       "      <td>0.70</td>\n",
       "      <td>60.3</td>\n",
       "      <td>58.0</td>\n",
       "      <td>5.75</td>\n",
       "      <td>5.77</td>\n",
       "      <td>3.47</td>\n",
       "    </tr>\n",
       "    <tr>\n",
       "      <th>193570</th>\n",
       "      <td>0.73</td>\n",
       "      <td>63.1</td>\n",
       "      <td>57.0</td>\n",
       "      <td>5.72</td>\n",
       "      <td>5.75</td>\n",
       "      <td>3.62</td>\n",
       "    </tr>\n",
       "    <tr>\n",
       "      <th>193571</th>\n",
       "      <td>0.34</td>\n",
       "      <td>62.9</td>\n",
       "      <td>55.0</td>\n",
       "      <td>4.45</td>\n",
       "      <td>4.49</td>\n",
       "      <td>2.81</td>\n",
       "    </tr>\n",
       "    <tr>\n",
       "      <th>193572</th>\n",
       "      <td>0.71</td>\n",
       "      <td>60.8</td>\n",
       "      <td>64.0</td>\n",
       "      <td>5.73</td>\n",
       "      <td>5.71</td>\n",
       "      <td>3.48</td>\n",
       "    </tr>\n",
       "  </tbody>\n",
       "</table>\n",
       "<p>193573 rows × 6 columns</p>\n",
       "</div>"
      ],
      "text/plain": [
       "        carat  depth  table     x     y     z\n",
       "0        1.52   62.2   58.0  7.27  7.33  4.55\n",
       "1        2.03   62.0   58.0  8.06  8.12  5.05\n",
       "2        0.70   61.2   57.0  5.69  5.73  3.50\n",
       "3        0.32   61.6   56.0  4.38  4.41  2.71\n",
       "4        1.70   62.6   59.0  7.65  7.61  4.77\n",
       "...       ...    ...    ...   ...   ...   ...\n",
       "193568   0.31   61.1   56.0  4.35  4.39  2.67\n",
       "193569   0.70   60.3   58.0  5.75  5.77  3.47\n",
       "193570   0.73   63.1   57.0  5.72  5.75  3.62\n",
       "193571   0.34   62.9   55.0  4.45  4.49  2.81\n",
       "193572   0.71   60.8   64.0  5.73  5.71  3.48\n",
       "\n",
       "[193573 rows x 6 columns]"
      ]
     },
     "execution_count": 45,
     "metadata": {},
     "output_type": "execute_result"
    }
   ],
   "source": [
    "x"
   ]
  },
  {
   "cell_type": "code",
   "execution_count": 29,
   "metadata": {
    "execution": {
     "iopub.execute_input": "2023-12-15T05:03:03.838482Z",
     "iopub.status.busy": "2023-12-15T05:03:03.838107Z",
     "iopub.status.idle": "2023-12-15T05:03:03.868282Z",
     "shell.execute_reply": "2023-12-15T05:03:03.867035Z",
     "shell.execute_reply.started": "2023-12-15T05:03:03.838452Z"
    }
   },
   "outputs": [],
   "source": [
    "x=pd.get_dummies(x,drop_first=True)\n",
    "\n",
    "#yazıları sayıya çevirdik\n",
    "#df yerine x kullandık. df nin orjinali bozulmasın kalsın diye "
   ]
  },
  {
   "cell_type": "code",
   "execution_count": 46,
   "metadata": {
    "execution": {
     "iopub.execute_input": "2023-12-15T05:14:40.979685Z",
     "iopub.status.busy": "2023-12-15T05:14:40.979324Z",
     "iopub.status.idle": "2023-12-15T05:14:40.996694Z",
     "shell.execute_reply": "2023-12-15T05:14:40.995659Z",
     "shell.execute_reply.started": "2023-12-15T05:14:40.979657Z"
    }
   },
   "outputs": [
    {
     "data": {
      "text/html": [
       "<div>\n",
       "<style scoped>\n",
       "    .dataframe tbody tr th:only-of-type {\n",
       "        vertical-align: middle;\n",
       "    }\n",
       "\n",
       "    .dataframe tbody tr th {\n",
       "        vertical-align: top;\n",
       "    }\n",
       "\n",
       "    .dataframe thead th {\n",
       "        text-align: right;\n",
       "    }\n",
       "</style>\n",
       "<table border=\"1\" class=\"dataframe\">\n",
       "  <thead>\n",
       "    <tr style=\"text-align: right;\">\n",
       "      <th></th>\n",
       "      <th>carat</th>\n",
       "      <th>depth</th>\n",
       "      <th>table</th>\n",
       "      <th>x</th>\n",
       "      <th>y</th>\n",
       "      <th>z</th>\n",
       "    </tr>\n",
       "  </thead>\n",
       "  <tbody>\n",
       "    <tr>\n",
       "      <th>0</th>\n",
       "      <td>1.52</td>\n",
       "      <td>62.2</td>\n",
       "      <td>58.0</td>\n",
       "      <td>7.27</td>\n",
       "      <td>7.33</td>\n",
       "      <td>4.55</td>\n",
       "    </tr>\n",
       "    <tr>\n",
       "      <th>1</th>\n",
       "      <td>2.03</td>\n",
       "      <td>62.0</td>\n",
       "      <td>58.0</td>\n",
       "      <td>8.06</td>\n",
       "      <td>8.12</td>\n",
       "      <td>5.05</td>\n",
       "    </tr>\n",
       "    <tr>\n",
       "      <th>2</th>\n",
       "      <td>0.70</td>\n",
       "      <td>61.2</td>\n",
       "      <td>57.0</td>\n",
       "      <td>5.69</td>\n",
       "      <td>5.73</td>\n",
       "      <td>3.50</td>\n",
       "    </tr>\n",
       "    <tr>\n",
       "      <th>3</th>\n",
       "      <td>0.32</td>\n",
       "      <td>61.6</td>\n",
       "      <td>56.0</td>\n",
       "      <td>4.38</td>\n",
       "      <td>4.41</td>\n",
       "      <td>2.71</td>\n",
       "    </tr>\n",
       "    <tr>\n",
       "      <th>4</th>\n",
       "      <td>1.70</td>\n",
       "      <td>62.6</td>\n",
       "      <td>59.0</td>\n",
       "      <td>7.65</td>\n",
       "      <td>7.61</td>\n",
       "      <td>4.77</td>\n",
       "    </tr>\n",
       "    <tr>\n",
       "      <th>...</th>\n",
       "      <td>...</td>\n",
       "      <td>...</td>\n",
       "      <td>...</td>\n",
       "      <td>...</td>\n",
       "      <td>...</td>\n",
       "      <td>...</td>\n",
       "    </tr>\n",
       "    <tr>\n",
       "      <th>193568</th>\n",
       "      <td>0.31</td>\n",
       "      <td>61.1</td>\n",
       "      <td>56.0</td>\n",
       "      <td>4.35</td>\n",
       "      <td>4.39</td>\n",
       "      <td>2.67</td>\n",
       "    </tr>\n",
       "    <tr>\n",
       "      <th>193569</th>\n",
       "      <td>0.70</td>\n",
       "      <td>60.3</td>\n",
       "      <td>58.0</td>\n",
       "      <td>5.75</td>\n",
       "      <td>5.77</td>\n",
       "      <td>3.47</td>\n",
       "    </tr>\n",
       "    <tr>\n",
       "      <th>193570</th>\n",
       "      <td>0.73</td>\n",
       "      <td>63.1</td>\n",
       "      <td>57.0</td>\n",
       "      <td>5.72</td>\n",
       "      <td>5.75</td>\n",
       "      <td>3.62</td>\n",
       "    </tr>\n",
       "    <tr>\n",
       "      <th>193571</th>\n",
       "      <td>0.34</td>\n",
       "      <td>62.9</td>\n",
       "      <td>55.0</td>\n",
       "      <td>4.45</td>\n",
       "      <td>4.49</td>\n",
       "      <td>2.81</td>\n",
       "    </tr>\n",
       "    <tr>\n",
       "      <th>193572</th>\n",
       "      <td>0.71</td>\n",
       "      <td>60.8</td>\n",
       "      <td>64.0</td>\n",
       "      <td>5.73</td>\n",
       "      <td>5.71</td>\n",
       "      <td>3.48</td>\n",
       "    </tr>\n",
       "  </tbody>\n",
       "</table>\n",
       "<p>193573 rows × 6 columns</p>\n",
       "</div>"
      ],
      "text/plain": [
       "        carat  depth  table     x     y     z\n",
       "0        1.52   62.2   58.0  7.27  7.33  4.55\n",
       "1        2.03   62.0   58.0  8.06  8.12  5.05\n",
       "2        0.70   61.2   57.0  5.69  5.73  3.50\n",
       "3        0.32   61.6   56.0  4.38  4.41  2.71\n",
       "4        1.70   62.6   59.0  7.65  7.61  4.77\n",
       "...       ...    ...    ...   ...   ...   ...\n",
       "193568   0.31   61.1   56.0  4.35  4.39  2.67\n",
       "193569   0.70   60.3   58.0  5.75  5.77  3.47\n",
       "193570   0.73   63.1   57.0  5.72  5.75  3.62\n",
       "193571   0.34   62.9   55.0  4.45  4.49  2.81\n",
       "193572   0.71   60.8   64.0  5.73  5.71  3.48\n",
       "\n",
       "[193573 rows x 6 columns]"
      ]
     },
     "execution_count": 46,
     "metadata": {},
     "output_type": "execute_result"
    }
   ],
   "source": [
    "x"
   ]
  },
  {
   "cell_type": "code",
   "execution_count": 48,
   "metadata": {
    "execution": {
     "iopub.execute_input": "2023-12-15T05:14:55.522382Z",
     "iopub.status.busy": "2023-12-15T05:14:55.521920Z",
     "iopub.status.idle": "2023-12-15T05:14:55.546781Z",
     "shell.execute_reply": "2023-12-15T05:14:55.544893Z",
     "shell.execute_reply.started": "2023-12-15T05:14:55.522328Z"
    }
   },
   "outputs": [
    {
     "data": {
      "text/html": [
       "<div>\n",
       "<style scoped>\n",
       "    .dataframe tbody tr th:only-of-type {\n",
       "        vertical-align: middle;\n",
       "    }\n",
       "\n",
       "    .dataframe tbody tr th {\n",
       "        vertical-align: top;\n",
       "    }\n",
       "\n",
       "    .dataframe thead th {\n",
       "        text-align: right;\n",
       "    }\n",
       "</style>\n",
       "<table border=\"1\" class=\"dataframe\">\n",
       "  <thead>\n",
       "    <tr style=\"text-align: right;\">\n",
       "      <th></th>\n",
       "      <th>carat</th>\n",
       "      <th>depth</th>\n",
       "      <th>table</th>\n",
       "      <th>x</th>\n",
       "      <th>y</th>\n",
       "      <th>z</th>\n",
       "    </tr>\n",
       "  </thead>\n",
       "  <tbody>\n",
       "    <tr>\n",
       "      <th>0</th>\n",
       "      <td>1.52</td>\n",
       "      <td>62.2</td>\n",
       "      <td>58.0</td>\n",
       "      <td>7.27</td>\n",
       "      <td>7.33</td>\n",
       "      <td>4.55</td>\n",
       "    </tr>\n",
       "    <tr>\n",
       "      <th>1</th>\n",
       "      <td>2.03</td>\n",
       "      <td>62.0</td>\n",
       "      <td>58.0</td>\n",
       "      <td>8.06</td>\n",
       "      <td>8.12</td>\n",
       "      <td>5.05</td>\n",
       "    </tr>\n",
       "    <tr>\n",
       "      <th>2</th>\n",
       "      <td>0.70</td>\n",
       "      <td>61.2</td>\n",
       "      <td>57.0</td>\n",
       "      <td>5.69</td>\n",
       "      <td>5.73</td>\n",
       "      <td>3.50</td>\n",
       "    </tr>\n",
       "    <tr>\n",
       "      <th>3</th>\n",
       "      <td>0.32</td>\n",
       "      <td>61.6</td>\n",
       "      <td>56.0</td>\n",
       "      <td>4.38</td>\n",
       "      <td>4.41</td>\n",
       "      <td>2.71</td>\n",
       "    </tr>\n",
       "    <tr>\n",
       "      <th>4</th>\n",
       "      <td>1.70</td>\n",
       "      <td>62.6</td>\n",
       "      <td>59.0</td>\n",
       "      <td>7.65</td>\n",
       "      <td>7.61</td>\n",
       "      <td>4.77</td>\n",
       "    </tr>\n",
       "    <tr>\n",
       "      <th>...</th>\n",
       "      <td>...</td>\n",
       "      <td>...</td>\n",
       "      <td>...</td>\n",
       "      <td>...</td>\n",
       "      <td>...</td>\n",
       "      <td>...</td>\n",
       "    </tr>\n",
       "    <tr>\n",
       "      <th>193568</th>\n",
       "      <td>0.31</td>\n",
       "      <td>61.1</td>\n",
       "      <td>56.0</td>\n",
       "      <td>4.35</td>\n",
       "      <td>4.39</td>\n",
       "      <td>2.67</td>\n",
       "    </tr>\n",
       "    <tr>\n",
       "      <th>193569</th>\n",
       "      <td>0.70</td>\n",
       "      <td>60.3</td>\n",
       "      <td>58.0</td>\n",
       "      <td>5.75</td>\n",
       "      <td>5.77</td>\n",
       "      <td>3.47</td>\n",
       "    </tr>\n",
       "    <tr>\n",
       "      <th>193570</th>\n",
       "      <td>0.73</td>\n",
       "      <td>63.1</td>\n",
       "      <td>57.0</td>\n",
       "      <td>5.72</td>\n",
       "      <td>5.75</td>\n",
       "      <td>3.62</td>\n",
       "    </tr>\n",
       "    <tr>\n",
       "      <th>193571</th>\n",
       "      <td>0.34</td>\n",
       "      <td>62.9</td>\n",
       "      <td>55.0</td>\n",
       "      <td>4.45</td>\n",
       "      <td>4.49</td>\n",
       "      <td>2.81</td>\n",
       "    </tr>\n",
       "    <tr>\n",
       "      <th>193572</th>\n",
       "      <td>0.71</td>\n",
       "      <td>60.8</td>\n",
       "      <td>64.0</td>\n",
       "      <td>5.73</td>\n",
       "      <td>5.71</td>\n",
       "      <td>3.48</td>\n",
       "    </tr>\n",
       "  </tbody>\n",
       "</table>\n",
       "<p>193573 rows × 6 columns</p>\n",
       "</div>"
      ],
      "text/plain": [
       "        carat  depth  table     x     y     z\n",
       "0        1.52   62.2   58.0  7.27  7.33  4.55\n",
       "1        2.03   62.0   58.0  8.06  8.12  5.05\n",
       "2        0.70   61.2   57.0  5.69  5.73  3.50\n",
       "3        0.32   61.6   56.0  4.38  4.41  2.71\n",
       "4        1.70   62.6   59.0  7.65  7.61  4.77\n",
       "...       ...    ...    ...   ...   ...   ...\n",
       "193568   0.31   61.1   56.0  4.35  4.39  2.67\n",
       "193569   0.70   60.3   58.0  5.75  5.77  3.47\n",
       "193570   0.73   63.1   57.0  5.72  5.75  3.62\n",
       "193571   0.34   62.9   55.0  4.45  4.49  2.81\n",
       "193572   0.71   60.8   64.0  5.73  5.71  3.48\n",
       "\n",
       "[193573 rows x 6 columns]"
      ]
     },
     "execution_count": 48,
     "metadata": {},
     "output_type": "execute_result"
    }
   ],
   "source": [
    "x"
   ]
  },
  {
   "cell_type": "code",
   "execution_count": 49,
   "metadata": {
    "execution": {
     "iopub.execute_input": "2023-12-15T05:14:59.353742Z",
     "iopub.status.busy": "2023-12-15T05:14:59.353345Z",
     "iopub.status.idle": "2023-12-15T05:14:59.366666Z",
     "shell.execute_reply": "2023-12-15T05:14:59.365152Z",
     "shell.execute_reply.started": "2023-12-15T05:14:59.353712Z"
    }
   },
   "outputs": [
    {
     "name": "stdout",
     "output_type": "stream",
     "text": [
      "<class 'pandas.core.frame.DataFrame'>\n",
      "RangeIndex: 193573 entries, 0 to 193572\n",
      "Data columns (total 6 columns):\n",
      " #   Column  Non-Null Count   Dtype  \n",
      "---  ------  --------------   -----  \n",
      " 0   carat   193573 non-null  float64\n",
      " 1   depth   193573 non-null  float64\n",
      " 2   table   193573 non-null  float64\n",
      " 3   x       193573 non-null  float64\n",
      " 4   y       193573 non-null  float64\n",
      " 5   z       193573 non-null  float64\n",
      "dtypes: float64(6)\n",
      "memory usage: 8.9 MB\n"
     ]
    }
   ],
   "source": [
    "x.info()"
   ]
  },
  {
   "cell_type": "code",
   "execution_count": 50,
   "metadata": {
    "execution": {
     "iopub.execute_input": "2023-12-15T05:15:03.099608Z",
     "iopub.status.busy": "2023-12-15T05:15:03.099009Z",
     "iopub.status.idle": "2023-12-15T05:15:03.107741Z",
     "shell.execute_reply": "2023-12-15T05:15:03.106168Z",
     "shell.execute_reply.started": "2023-12-15T05:15:03.099554Z"
    }
   },
   "outputs": [],
   "source": [
    "y=df1[['price']]"
   ]
  },
  {
   "cell_type": "code",
   "execution_count": 51,
   "metadata": {
    "execution": {
     "iopub.execute_input": "2023-12-15T05:15:03.519550Z",
     "iopub.status.busy": "2023-12-15T05:15:03.519160Z",
     "iopub.status.idle": "2023-12-15T05:15:03.525344Z",
     "shell.execute_reply": "2023-12-15T05:15:03.524170Z",
     "shell.execute_reply.started": "2023-12-15T05:15:03.519519Z"
    }
   },
   "outputs": [],
   "source": [
    "from sklearn.model_selection import train_test_split"
   ]
  },
  {
   "cell_type": "code",
   "execution_count": 52,
   "metadata": {
    "execution": {
     "iopub.execute_input": "2023-12-15T05:15:03.878317Z",
     "iopub.status.busy": "2023-12-15T05:15:03.877852Z",
     "iopub.status.idle": "2023-12-15T05:15:03.921811Z",
     "shell.execute_reply": "2023-12-15T05:15:03.920457Z",
     "shell.execute_reply.started": "2023-12-15T05:15:03.878281Z"
    }
   },
   "outputs": [],
   "source": [
    "x_train,x_test,y_train,y_test=train_test_split(x,y,test_size=0.20,random_state=42)"
   ]
  },
  {
   "cell_type": "code",
   "execution_count": 53,
   "metadata": {
    "execution": {
     "iopub.execute_input": "2023-12-15T05:15:04.205559Z",
     "iopub.status.busy": "2023-12-15T05:15:04.204990Z",
     "iopub.status.idle": "2023-12-15T05:15:04.212589Z",
     "shell.execute_reply": "2023-12-15T05:15:04.210751Z",
     "shell.execute_reply.started": "2023-12-15T05:15:04.205516Z"
    }
   },
   "outputs": [],
   "source": [
    "lr=LinearRegression()\n",
    "gb=GradientBoostingRegressor()\n",
    "et=ExtraTreeRegressor()\n",
    "r=Ridge()\n",
    "l=Lasso()"
   ]
  },
  {
   "cell_type": "code",
   "execution_count": 54,
   "metadata": {
    "execution": {
     "iopub.execute_input": "2023-12-15T05:15:04.702379Z",
     "iopub.status.busy": "2023-12-15T05:15:04.701813Z",
     "iopub.status.idle": "2023-12-15T05:15:04.709481Z",
     "shell.execute_reply": "2023-12-15T05:15:04.707494Z",
     "shell.execute_reply.started": "2023-12-15T05:15:04.702312Z"
    }
   },
   "outputs": [],
   "source": [
    "import tensorflow as tf"
   ]
  },
  {
   "cell_type": "code",
   "execution_count": 55,
   "metadata": {
    "execution": {
     "iopub.execute_input": "2023-12-15T05:15:08.958520Z",
     "iopub.status.busy": "2023-12-15T05:15:08.958111Z",
     "iopub.status.idle": "2023-12-15T05:15:08.963664Z",
     "shell.execute_reply": "2023-12-15T05:15:08.962316Z",
     "shell.execute_reply.started": "2023-12-15T05:15:08.958485Z"
    }
   },
   "outputs": [],
   "source": [
    "from tensorflow.keras.models import Sequential\n",
    "from tensorflow.keras.layers import Dense"
   ]
  },
  {
   "cell_type": "code",
   "execution_count": 56,
   "metadata": {
    "execution": {
     "iopub.execute_input": "2023-12-15T05:15:09.578035Z",
     "iopub.status.busy": "2023-12-15T05:15:09.577609Z",
     "iopub.status.idle": "2023-12-15T05:15:09.602032Z",
     "shell.execute_reply": "2023-12-15T05:15:09.600981Z",
     "shell.execute_reply.started": "2023-12-15T05:15:09.578000Z"
    }
   },
   "outputs": [],
   "source": [
    "model=Sequential()\n",
    "model.add(Dense(19,activation='relu'))\n",
    "model.add(Dense(19,activation='relu'))\n",
    "model.add(Dense(19,activation='relu'))\n",
    "model.add(Dense(19,activation='relu'))\n",
    "model.add(Dense(19,activation='relu'))\n",
    "model.add(Dense(1))   #regression olduğu için sadece Dense(1) yazdık. Tek bir değer tahmin edeceğiz\n",
    "model.compile(loss='mse', optimizer='adam')  #mes mean_squared_error"
   ]
  },
  {
   "cell_type": "code",
   "execution_count": 58,
   "metadata": {
    "execution": {
     "iopub.execute_input": "2023-12-15T05:18:32.229000Z",
     "iopub.status.busy": "2023-12-15T05:18:32.228527Z",
     "iopub.status.idle": "2023-12-15T05:51:54.223731Z",
     "shell.execute_reply": "2023-12-15T05:51:54.222422Z",
     "shell.execute_reply.started": "2023-12-15T05:18:32.228961Z"
    }
   },
   "outputs": [
    {
     "name": "stdout",
     "output_type": "stream",
     "text": [
      "Epoch 1/100\n",
      "7743/7743 [==============================] - 24s 3ms/step - loss: 1386590.8750 - val_loss: 1331379.6250\n",
      "Epoch 2/100\n",
      "7743/7743 [==============================] - 21s 3ms/step - loss: 1383254.0000 - val_loss: 1352301.0000\n",
      "Epoch 3/100\n",
      "7743/7743 [==============================] - 21s 3ms/step - loss: 1383271.1250 - val_loss: 1390154.5000\n",
      "Epoch 4/100\n",
      "7743/7743 [==============================] - 22s 3ms/step - loss: 1379878.1250 - val_loss: 1343214.3750\n",
      "Epoch 5/100\n",
      "7743/7743 [==============================] - 24s 3ms/step - loss: 1381165.8750 - val_loss: 1336452.7500\n",
      "Epoch 6/100\n",
      "7743/7743 [==============================] - 22s 3ms/step - loss: 1378624.7500 - val_loss: 1333868.5000\n",
      "Epoch 7/100\n",
      "7743/7743 [==============================] - 23s 3ms/step - loss: 1378813.1250 - val_loss: 1445188.6250\n",
      "Epoch 8/100\n",
      "7743/7743 [==============================] - 25s 3ms/step - loss: 1375297.6250 - val_loss: 1370638.0000\n",
      "Epoch 9/100\n",
      "7743/7743 [==============================] - 22s 3ms/step - loss: 1375386.6250 - val_loss: 1327377.3750\n",
      "Epoch 10/100\n",
      "7743/7743 [==============================] - 24s 3ms/step - loss: 1374250.3750 - val_loss: 1320436.8750\n",
      "Epoch 11/100\n",
      "7743/7743 [==============================] - 24s 3ms/step - loss: 1373390.6250 - val_loss: 1322127.0000\n",
      "Epoch 12/100\n",
      "7743/7743 [==============================] - 22s 3ms/step - loss: 1375376.7500 - val_loss: 1317201.3750\n",
      "Epoch 13/100\n",
      "7743/7743 [==============================] - 21s 3ms/step - loss: 1373157.1250 - val_loss: 1321045.3750\n",
      "Epoch 14/100\n",
      "7743/7743 [==============================] - 21s 3ms/step - loss: 1371484.1250 - val_loss: 1326758.3750\n",
      "Epoch 15/100\n",
      "7743/7743 [==============================] - 20s 3ms/step - loss: 1371564.3750 - val_loss: 1312542.7500\n",
      "Epoch 16/100\n",
      "7743/7743 [==============================] - 20s 3ms/step - loss: 1368459.7500 - val_loss: 1372898.2500\n",
      "Epoch 17/100\n",
      "7743/7743 [==============================] - 21s 3ms/step - loss: 1366312.0000 - val_loss: 1354628.8750\n",
      "Epoch 18/100\n",
      "7743/7743 [==============================] - 22s 3ms/step - loss: 1366404.0000 - val_loss: 1319924.6250\n",
      "Epoch 19/100\n",
      "7743/7743 [==============================] - 23s 3ms/step - loss: 1370901.3750 - val_loss: 1311335.0000\n",
      "Epoch 20/100\n",
      "7743/7743 [==============================] - 25s 3ms/step - loss: 1368037.5000 - val_loss: 1351443.5000\n",
      "Epoch 21/100\n",
      "7743/7743 [==============================] - 24s 3ms/step - loss: 1367133.2500 - val_loss: 1354042.3750\n",
      "Epoch 22/100\n",
      "7743/7743 [==============================] - 24s 3ms/step - loss: 1366189.6250 - val_loss: 1351141.5000\n",
      "Epoch 23/100\n",
      "7743/7743 [==============================] - 20s 3ms/step - loss: 1365824.2500 - val_loss: 1326749.0000\n",
      "Epoch 24/100\n",
      "7743/7743 [==============================] - 20s 3ms/step - loss: 1363479.6250 - val_loss: 1315431.5000\n",
      "Epoch 25/100\n",
      "7743/7743 [==============================] - 22s 3ms/step - loss: 1365472.3750 - val_loss: 1326601.2500\n",
      "Epoch 26/100\n",
      "7743/7743 [==============================] - 21s 3ms/step - loss: 1363570.3750 - val_loss: 1323320.6250\n",
      "Epoch 27/100\n",
      "7743/7743 [==============================] - 23s 3ms/step - loss: 1361608.5000 - val_loss: 1307852.0000\n",
      "Epoch 28/100\n",
      "7743/7743 [==============================] - 23s 3ms/step - loss: 1363387.8750 - val_loss: 1363691.6250\n",
      "Epoch 29/100\n",
      "7743/7743 [==============================] - 24s 3ms/step - loss: 1364663.3750 - val_loss: 1315284.5000\n",
      "Epoch 30/100\n",
      "7743/7743 [==============================] - 22s 3ms/step - loss: 1360254.6250 - val_loss: 1367662.7500\n",
      "Epoch 31/100\n",
      "7743/7743 [==============================] - 24s 3ms/step - loss: 1359885.3750 - val_loss: 1348660.8750\n",
      "Epoch 32/100\n",
      "7743/7743 [==============================] - 21s 3ms/step - loss: 1356211.3750 - val_loss: 1312376.1250\n",
      "Epoch 33/100\n",
      "7743/7743 [==============================] - 21s 3ms/step - loss: 1357890.7500 - val_loss: 1330476.3750\n",
      "Epoch 34/100\n",
      "7743/7743 [==============================] - 22s 3ms/step - loss: 1356746.1250 - val_loss: 1307264.5000\n",
      "Epoch 35/100\n",
      "7743/7743 [==============================] - 22s 3ms/step - loss: 1353797.7500 - val_loss: 1305412.5000\n",
      "Epoch 36/100\n",
      "7743/7743 [==============================] - 22s 3ms/step - loss: 1356580.6250 - val_loss: 1304135.8750\n",
      "Epoch 37/100\n",
      "7743/7743 [==============================] - 21s 3ms/step - loss: 1351273.3750 - val_loss: 1302605.3750\n",
      "Epoch 38/100\n",
      "7743/7743 [==============================] - 21s 3ms/step - loss: 1353593.8750 - val_loss: 1356391.3750\n",
      "Epoch 39/100\n",
      "7743/7743 [==============================] - 21s 3ms/step - loss: 1353405.8750 - val_loss: 1337963.8750\n",
      "Epoch 40/100\n",
      "7743/7743 [==============================] - 21s 3ms/step - loss: 1349795.5000 - val_loss: 1328418.6250\n",
      "Epoch 41/100\n",
      "7743/7743 [==============================] - 21s 3ms/step - loss: 1352558.7500 - val_loss: 1333120.3750\n",
      "Epoch 42/100\n",
      "7743/7743 [==============================] - 21s 3ms/step - loss: 1353949.2500 - val_loss: 1321456.2500\n",
      "Epoch 43/100\n",
      "7743/7743 [==============================] - 24s 3ms/step - loss: 1350715.3750 - val_loss: 1328034.8750\n",
      "Epoch 44/100\n",
      "7743/7743 [==============================] - 21s 3ms/step - loss: 1349958.8750 - val_loss: 1303835.6250\n",
      "Epoch 45/100\n",
      "7743/7743 [==============================] - 21s 3ms/step - loss: 1350309.0000 - val_loss: 1328185.0000\n",
      "Epoch 46/100\n",
      "7743/7743 [==============================] - 21s 3ms/step - loss: 1351359.2500 - val_loss: 1310887.2500\n",
      "Epoch 47/100\n",
      "7743/7743 [==============================] - 20s 3ms/step - loss: 1347641.8750 - val_loss: 1316777.8750\n",
      "Epoch 48/100\n",
      "7743/7743 [==============================] - 20s 3ms/step - loss: 1349744.5000 - val_loss: 1318892.7500\n",
      "Epoch 49/100\n",
      "7743/7743 [==============================] - 24s 3ms/step - loss: 1350589.3750 - val_loss: 1310112.3750\n",
      "Epoch 50/100\n",
      "7743/7743 [==============================] - 21s 3ms/step - loss: 1346296.2500 - val_loss: 1305415.5000\n",
      "Epoch 51/100\n",
      "7743/7743 [==============================] - 22s 3ms/step - loss: 1347579.5000 - val_loss: 1319609.2500\n",
      "Epoch 52/100\n",
      "7743/7743 [==============================] - 22s 3ms/step - loss: 1346524.5000 - val_loss: 1330692.2500\n",
      "Epoch 53/100\n",
      "7743/7743 [==============================] - 25s 3ms/step - loss: 1345701.7500 - val_loss: 1342119.7500\n",
      "Epoch 54/100\n",
      "7743/7743 [==============================] - 22s 3ms/step - loss: 1346159.6250 - val_loss: 1321516.1250\n",
      "Epoch 55/100\n",
      "7743/7743 [==============================] - 22s 3ms/step - loss: 1346532.8750 - val_loss: 1323062.7500\n",
      "Epoch 56/100\n",
      "7743/7743 [==============================] - 23s 3ms/step - loss: 1344094.6250 - val_loss: 1343240.6250\n",
      "Epoch 57/100\n",
      "7743/7743 [==============================] - 23s 3ms/step - loss: 1344091.6250 - val_loss: 1478271.3750\n",
      "Epoch 58/100\n",
      "7743/7743 [==============================] - 23s 3ms/step - loss: 1347101.7500 - val_loss: 1311524.8750\n",
      "Epoch 59/100\n",
      "7743/7743 [==============================] - 25s 3ms/step - loss: 1344455.2500 - val_loss: 1300367.5000\n",
      "Epoch 60/100\n",
      "7743/7743 [==============================] - 24s 3ms/step - loss: 1341379.3750 - val_loss: 1312989.2500\n",
      "Epoch 61/100\n",
      "7743/7743 [==============================] - 24s 3ms/step - loss: 1343062.1250 - val_loss: 1324822.6250\n",
      "Epoch 62/100\n",
      "7743/7743 [==============================] - 22s 3ms/step - loss: 1342380.0000 - val_loss: 1303862.2500\n",
      "Epoch 63/100\n",
      "7743/7743 [==============================] - 24s 3ms/step - loss: 1346809.1250 - val_loss: 1308107.8750\n",
      "Epoch 64/100\n",
      "7743/7743 [==============================] - 22s 3ms/step - loss: 1342970.3750 - val_loss: 1298774.0000\n",
      "Epoch 65/100\n",
      "7743/7743 [==============================] - 21s 3ms/step - loss: 1343254.8750 - val_loss: 1303518.1250\n",
      "Epoch 66/100\n",
      "7743/7743 [==============================] - 18s 2ms/step - loss: 1343457.8750 - val_loss: 1353050.7500\n",
      "Epoch 67/100\n",
      "7743/7743 [==============================] - 15s 2ms/step - loss: 1342521.1250 - val_loss: 1358393.8750\n",
      "Epoch 68/100\n",
      "7743/7743 [==============================] - 16s 2ms/step - loss: 1343409.6250 - val_loss: 1342356.8750\n",
      "Epoch 69/100\n",
      "7743/7743 [==============================] - 15s 2ms/step - loss: 1342665.5000 - val_loss: 1296059.5000\n",
      "Epoch 70/100\n",
      "7743/7743 [==============================] - 14s 2ms/step - loss: 1343159.5000 - val_loss: 1470984.3750\n",
      "Epoch 71/100\n",
      "7743/7743 [==============================] - 14s 2ms/step - loss: 1341524.2500 - val_loss: 1318936.6250\n",
      "Epoch 72/100\n",
      "7743/7743 [==============================] - 14s 2ms/step - loss: 1340090.5000 - val_loss: 1574983.1250\n",
      "Epoch 73/100\n",
      "7743/7743 [==============================] - 15s 2ms/step - loss: 1342738.2500 - val_loss: 1317141.8750\n",
      "Epoch 74/100\n",
      "7743/7743 [==============================] - 15s 2ms/step - loss: 1342313.8750 - val_loss: 1320944.2500\n",
      "Epoch 75/100\n",
      "7743/7743 [==============================] - 16s 2ms/step - loss: 1339340.2500 - val_loss: 1305451.8750\n",
      "Epoch 76/100\n",
      "7743/7743 [==============================] - 15s 2ms/step - loss: 1342213.8750 - val_loss: 1403705.1250\n",
      "Epoch 77/100\n",
      "7743/7743 [==============================] - 15s 2ms/step - loss: 1338482.3750 - val_loss: 1416677.8750\n",
      "Epoch 78/100\n",
      "7743/7743 [==============================] - 15s 2ms/step - loss: 1340303.2500 - val_loss: 1331934.0000\n",
      "Epoch 79/100\n",
      "7743/7743 [==============================] - 14s 2ms/step - loss: 1341542.7500 - val_loss: 1375958.1250\n",
      "Epoch 80/100\n",
      "7743/7743 [==============================] - 15s 2ms/step - loss: 1339638.6250 - val_loss: 1350233.8750\n",
      "Epoch 81/100\n",
      "7743/7743 [==============================] - 15s 2ms/step - loss: 1340897.2500 - val_loss: 1323244.2500\n",
      "Epoch 82/100\n",
      "7743/7743 [==============================] - 15s 2ms/step - loss: 1342587.8750 - val_loss: 1308170.5000\n",
      "Epoch 83/100\n",
      "7743/7743 [==============================] - 14s 2ms/step - loss: 1338756.0000 - val_loss: 1352017.8750\n",
      "Epoch 84/100\n",
      "7743/7743 [==============================] - 15s 2ms/step - loss: 1342491.7500 - val_loss: 1319425.6250\n",
      "Epoch 85/100\n",
      "7743/7743 [==============================] - 14s 2ms/step - loss: 1338661.1250 - val_loss: 1294275.7500\n",
      "Epoch 86/100\n",
      "7743/7743 [==============================] - 14s 2ms/step - loss: 1339205.7500 - val_loss: 1309191.2500\n",
      "Epoch 87/100\n",
      "7743/7743 [==============================] - 14s 2ms/step - loss: 1338578.8750 - val_loss: 1295089.1250\n",
      "Epoch 88/100\n",
      "7743/7743 [==============================] - 14s 2ms/step - loss: 1340683.5000 - val_loss: 1307251.0000\n",
      "Epoch 89/100\n",
      "7743/7743 [==============================] - 15s 2ms/step - loss: 1338573.7500 - val_loss: 1329620.1250\n",
      "Epoch 90/100\n",
      "7743/7743 [==============================] - 15s 2ms/step - loss: 1339660.5000 - val_loss: 1313741.1250\n",
      "Epoch 91/100\n",
      "7743/7743 [==============================] - 14s 2ms/step - loss: 1339549.5000 - val_loss: 1309679.6250\n",
      "Epoch 92/100\n",
      "7743/7743 [==============================] - 14s 2ms/step - loss: 1339137.2500 - val_loss: 1293334.7500\n",
      "Epoch 93/100\n",
      "7743/7743 [==============================] - 14s 2ms/step - loss: 1336559.6250 - val_loss: 1298948.2500\n",
      "Epoch 94/100\n",
      "7743/7743 [==============================] - 14s 2ms/step - loss: 1335340.1250 - val_loss: 1297458.1250\n",
      "Epoch 95/100\n",
      "7743/7743 [==============================] - 14s 2ms/step - loss: 1338501.6250 - val_loss: 1319613.2500\n",
      "Epoch 96/100\n",
      "7743/7743 [==============================] - 15s 2ms/step - loss: 1340851.6250 - val_loss: 1324678.0000\n",
      "Epoch 97/100\n",
      "7743/7743 [==============================] - 15s 2ms/step - loss: 1339854.2500 - val_loss: 1298058.3750\n",
      "Epoch 98/100\n",
      "7743/7743 [==============================] - 15s 2ms/step - loss: 1336998.8750 - val_loss: 1349382.6250\n",
      "Epoch 99/100\n",
      "7743/7743 [==============================] - 15s 2ms/step - loss: 1338177.5000 - val_loss: 1304247.5000\n",
      "Epoch 100/100\n",
      "7743/7743 [==============================] - 15s 2ms/step - loss: 1336683.2500 - val_loss: 1322813.0000\n"
     ]
    }
   ],
   "source": [
    "history=model.fit(x_train,y_train,validation_data=(x_test,y_test),epochs=100,batch_size=20,verbose=1)"
   ]
  },
  {
   "cell_type": "code",
   "execution_count": 59,
   "metadata": {
    "execution": {
     "iopub.execute_input": "2023-12-15T06:07:26.153308Z",
     "iopub.status.busy": "2023-12-15T06:07:26.152955Z",
     "iopub.status.idle": "2023-12-15T06:07:26.178283Z",
     "shell.execute_reply": "2023-12-15T06:07:26.176348Z",
     "shell.execute_reply.started": "2023-12-15T06:07:26.153281Z"
    }
   },
   "outputs": [
    {
     "name": "stdout",
     "output_type": "stream",
     "text": [
      "Model: \"sequential_1\"\n",
      "_________________________________________________________________\n",
      " Layer (type)                Output Shape              Param #   \n",
      "=================================================================\n",
      " dense_6 (Dense)             (None, 19)                133       \n",
      "                                                                 \n",
      " dense_7 (Dense)             (None, 19)                380       \n",
      "                                                                 \n",
      " dense_8 (Dense)             (None, 19)                380       \n",
      "                                                                 \n",
      " dense_9 (Dense)             (None, 19)                380       \n",
      "                                                                 \n",
      " dense_10 (Dense)            (None, 19)                380       \n",
      "                                                                 \n",
      " dense_11 (Dense)            (None, 1)                 20        \n",
      "                                                                 \n",
      "=================================================================\n",
      "Total params: 1673 (6.54 KB)\n",
      "Trainable params: 1673 (6.54 KB)\n",
      "Non-trainable params: 0 (0.00 Byte)\n",
      "_________________________________________________________________\n"
     ]
    }
   ],
   "source": [
    "model.summary()"
   ]
  },
  {
   "cell_type": "code",
   "execution_count": 60,
   "metadata": {
    "execution": {
     "iopub.execute_input": "2023-12-15T06:07:34.257185Z",
     "iopub.status.busy": "2023-12-15T06:07:34.256765Z",
     "iopub.status.idle": "2023-12-15T06:07:34.265035Z",
     "shell.execute_reply": "2023-12-15T06:07:34.263090Z",
     "shell.execute_reply.started": "2023-12-15T06:07:34.257155Z"
    }
   },
   "outputs": [],
   "source": [
    "loss_df=pd.DataFrame(model.history.history)"
   ]
  },
  {
   "cell_type": "code",
   "execution_count": 61,
   "metadata": {
    "execution": {
     "iopub.execute_input": "2023-12-15T06:07:43.731013Z",
     "iopub.status.busy": "2023-12-15T06:07:43.730668Z",
     "iopub.status.idle": "2023-12-15T06:07:43.999600Z",
     "shell.execute_reply": "2023-12-15T06:07:43.998188Z",
     "shell.execute_reply.started": "2023-12-15T06:07:43.730986Z"
    }
   },
   "outputs": [
    {
     "data": {
      "text/plain": [
       "<Axes: >"
      ]
     },
     "execution_count": 61,
     "metadata": {},
     "output_type": "execute_result"
    },
    {
     "data": {
      "image/png": "[encoded data removed]",
      "text/plain": [
       "<Figure size 640x480 with 1 Axes>"
      ]
     },
     "metadata": {},
     "output_type": "display_data"
    }
   ],
   "source": [
    "loss_df.plot()"
   ]
  },
  {
   "cell_type": "code",
   "execution_count": 62,
   "metadata": {
    "execution": {
     "iopub.execute_input": "2023-12-15T06:07:53.491197Z",
     "iopub.status.busy": "2023-12-15T06:07:53.490757Z",
     "iopub.status.idle": "2023-12-15T06:07:56.185107Z",
     "shell.execute_reply": "2023-12-15T06:07:56.183808Z",
     "shell.execute_reply.started": "2023-12-15T06:07:53.491163Z"
    }
   },
   "outputs": [
    {
     "name": "stdout",
     "output_type": "stream",
     "text": [
      "1210/1210 [==============================] - 1s 1ms/step\n"
     ]
    }
   ],
   "source": [
    "tahmin=model.predict(x_test)"
   ]
  },
  {
   "cell_type": "code",
   "execution_count": 63,
   "metadata": {
    "execution": {
     "iopub.execute_input": "2023-12-15T06:08:01.731329Z",
     "iopub.status.busy": "2023-12-15T06:08:01.730859Z",
     "iopub.status.idle": "2023-12-15T06:08:01.737191Z",
     "shell.execute_reply": "2023-12-15T06:08:01.735818Z",
     "shell.execute_reply.started": "2023-12-15T06:08:01.731290Z"
    }
   },
   "outputs": [],
   "source": [
    "from sklearn.metrics import mean_squared_error,r2_score"
   ]
  },
  {
   "cell_type": "code",
   "execution_count": 64,
   "metadata": {
    "execution": {
     "iopub.execute_input": "2023-12-15T06:08:11.569398Z",
     "iopub.status.busy": "2023-12-15T06:08:11.568854Z",
     "iopub.status.idle": "2023-12-15T06:08:11.585896Z",
     "shell.execute_reply": "2023-12-15T06:08:11.584174Z",
     "shell.execute_reply.started": "2023-12-15T06:08:11.569325Z"
    }
   },
   "outputs": [
    {
     "data": {
      "text/plain": [
       "0.9181406265182164"
      ]
     },
     "execution_count": 64,
     "metadata": {},
     "output_type": "execute_result"
    }
   ],
   "source": [
    "r2_score(y_test,tahmin)"
   ]
  },
  {
   "cell_type": "code",
   "execution_count": 65,
   "metadata": {
    "execution": {
     "iopub.execute_input": "2023-12-15T06:08:26.412281Z",
     "iopub.status.busy": "2023-12-15T06:08:26.411891Z",
     "iopub.status.idle": "2023-12-15T06:08:26.421768Z",
     "shell.execute_reply": "2023-12-15T06:08:26.420690Z",
     "shell.execute_reply.started": "2023-12-15T06:08:26.412247Z"
    }
   },
   "outputs": [
    {
     "data": {
      "text/plain": [
       "1150.1359676334919"
      ]
     },
     "execution_count": 65,
     "metadata": {},
     "output_type": "execute_result"
    }
   ],
   "source": [
    "mean_squared_error(y_test,tahmin)**.5"
   ]
  },
  {
   "cell_type": "code",
   "execution_count": null,
   "metadata": {},
   "outputs": [],
   "source": []
  }
 ],
 "metadata": {
  "kaggle": {
   "accelerator": "none",
   "dataSources": [
    {
     "databundleVersionId": 4970935,
     "sourceId": 45893,
     "sourceType": "competition"
    }
   ],
   "dockerImageVersionId": 30615,
   "isGpuEnabled": false,
   "isInternetEnabled": true,
   "language": "python",
   "sourceType": "notebook"
  },
  "kernelspec": {
   "display_name": "Python 3 (ipykernel)",
   "language": "python",
   "name": "python3"
  },
  "language_info": {
   "codemirror_mode": {
    "name": "ipython",
    "version": 3
   },
   "file_extension": ".py",
   "mimetype": "text/x-python",
   "name": "python",
   "nbconvert_exporter": "python",
   "pygments_lexer": "ipython3",
   "version": "3.11.3"
  }
 },
 "nbformat": 4,
 "nbformat_minor": 4
}
